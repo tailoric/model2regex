{
 "cells": [
  {
   "cell_type": "markdown",
   "id": "a86b2fc4-9e4a-4be4-9b51-697acddfae07",
   "metadata": {},
   "source": [
    "# Prototyping model2regex"
   ]
  },
  {
   "cell_type": "code",
   "execution_count": 1,
   "id": "0800e2ed-6243-41be-8b18-9f520470570e",
   "metadata": {},
   "outputs": [
    {
     "name": "stdout",
     "output_type": "stream",
     "text": [
      "Requirement already satisfied: absl-py==2.1.0 in c:\\users\\erics\\projects\\masterarbeit\\pytorch\\prototype\\.venv\\lib\\site-packages (from -r requirements.txt (line 1)) (2.1.0)\n",
      "Requirement already satisfied: anyio==4.2.0 in c:\\users\\erics\\projects\\masterarbeit\\pytorch\\prototype\\.venv\\lib\\site-packages (from -r requirements.txt (line 2)) (4.2.0)\n",
      "Requirement already satisfied: argon2-cffi==23.1.0 in c:\\users\\erics\\projects\\masterarbeit\\pytorch\\prototype\\.venv\\lib\\site-packages (from -r requirements.txt (line 3)) (23.1.0)\n",
      "Requirement already satisfied: argon2-cffi-bindings==21.2.0 in c:\\users\\erics\\projects\\masterarbeit\\pytorch\\prototype\\.venv\\lib\\site-packages (from -r requirements.txt (line 4)) (21.2.0)\n",
      "Requirement already satisfied: arrow==1.3.0 in c:\\users\\erics\\projects\\masterarbeit\\pytorch\\prototype\\.venv\\lib\\site-packages (from -r requirements.txt (line 5)) (1.3.0)\n",
      "Requirement already satisfied: asttokens==2.4.1 in c:\\users\\erics\\projects\\masterarbeit\\pytorch\\prototype\\.venv\\lib\\site-packages (from -r requirements.txt (line 6)) (2.4.1)\n",
      "Requirement already satisfied: async-lru==2.0.4 in c:\\users\\erics\\projects\\masterarbeit\\pytorch\\prototype\\.venv\\lib\\site-packages (from -r requirements.txt (line 7)) (2.0.4)\n",
      "Requirement already satisfied: attrs==23.2.0 in c:\\users\\erics\\projects\\masterarbeit\\pytorch\\prototype\\.venv\\lib\\site-packages (from -r requirements.txt (line 8)) (23.2.0)\n",
      "Requirement already satisfied: Babel==2.14.0 in c:\\users\\erics\\projects\\masterarbeit\\pytorch\\prototype\\.venv\\lib\\site-packages (from -r requirements.txt (line 9)) (2.14.0)\n",
      "Requirement already satisfied: beautifulsoup4==4.12.3 in c:\\users\\erics\\projects\\masterarbeit\\pytorch\\prototype\\.venv\\lib\\site-packages (from -r requirements.txt (line 10)) (4.12.3)\n",
      "Requirement already satisfied: bleach==6.1.0 in c:\\users\\erics\\projects\\masterarbeit\\pytorch\\prototype\\.venv\\lib\\site-packages (from -r requirements.txt (line 11)) (6.1.0)\n",
      "Requirement already satisfied: certifi==2024.2.2 in c:\\users\\erics\\projects\\masterarbeit\\pytorch\\prototype\\.venv\\lib\\site-packages (from -r requirements.txt (line 12)) (2024.2.2)\n",
      "Requirement already satisfied: cffi==1.16.0 in c:\\users\\erics\\projects\\masterarbeit\\pytorch\\prototype\\.venv\\lib\\site-packages (from -r requirements.txt (line 13)) (1.16.0)\n",
      "Requirement already satisfied: charset-normalizer==3.3.2 in c:\\users\\erics\\projects\\masterarbeit\\pytorch\\prototype\\.venv\\lib\\site-packages (from -r requirements.txt (line 14)) (3.3.2)\n",
      "Requirement already satisfied: colorama==0.4.6 in c:\\users\\erics\\projects\\masterarbeit\\pytorch\\prototype\\.venv\\lib\\site-packages (from -r requirements.txt (line 15)) (0.4.6)\n",
      "Requirement already satisfied: comm==0.2.1 in c:\\users\\erics\\projects\\masterarbeit\\pytorch\\prototype\\.venv\\lib\\site-packages (from -r requirements.txt (line 16)) (0.2.1)\n",
      "Requirement already satisfied: debugpy==1.8.1 in c:\\users\\erics\\projects\\masterarbeit\\pytorch\\prototype\\.venv\\lib\\site-packages (from -r requirements.txt (line 17)) (1.8.1)\n",
      "Requirement already satisfied: decorator==5.1.1 in c:\\users\\erics\\projects\\masterarbeit\\pytorch\\prototype\\.venv\\lib\\site-packages (from -r requirements.txt (line 18)) (5.1.1)\n",
      "Requirement already satisfied: defusedxml==0.7.1 in c:\\users\\erics\\projects\\masterarbeit\\pytorch\\prototype\\.venv\\lib\\site-packages (from -r requirements.txt (line 19)) (0.7.1)\n",
      "Requirement already satisfied: executing==2.0.1 in c:\\users\\erics\\projects\\masterarbeit\\pytorch\\prototype\\.venv\\lib\\site-packages (from -r requirements.txt (line 20)) (2.0.1)\n",
      "Requirement already satisfied: fastjsonschema==2.19.1 in c:\\users\\erics\\projects\\masterarbeit\\pytorch\\prototype\\.venv\\lib\\site-packages (from -r requirements.txt (line 21)) (2.19.1)\n",
      "Requirement already satisfied: filelock==3.9.0 in c:\\users\\erics\\projects\\masterarbeit\\pytorch\\prototype\\.venv\\lib\\site-packages (from -r requirements.txt (line 22)) (3.9.0)\n",
      "Requirement already satisfied: fqdn==1.5.1 in c:\\users\\erics\\projects\\masterarbeit\\pytorch\\prototype\\.venv\\lib\\site-packages (from -r requirements.txt (line 23)) (1.5.1)\n",
      "Requirement already satisfied: fsspec==2023.4.0 in c:\\users\\erics\\projects\\masterarbeit\\pytorch\\prototype\\.venv\\lib\\site-packages (from -r requirements.txt (line 24)) (2023.4.0)\n",
      "Requirement already satisfied: grpcio==1.62.0 in c:\\users\\erics\\projects\\masterarbeit\\pytorch\\prototype\\.venv\\lib\\site-packages (from -r requirements.txt (line 25)) (1.62.0)\n",
      "Requirement already satisfied: h11==0.14.0 in c:\\users\\erics\\projects\\masterarbeit\\pytorch\\prototype\\.venv\\lib\\site-packages (from -r requirements.txt (line 26)) (0.14.0)\n",
      "Requirement already satisfied: httpcore==1.0.3 in c:\\users\\erics\\projects\\masterarbeit\\pytorch\\prototype\\.venv\\lib\\site-packages (from -r requirements.txt (line 27)) (1.0.3)\n",
      "Requirement already satisfied: httpx==0.26.0 in c:\\users\\erics\\projects\\masterarbeit\\pytorch\\prototype\\.venv\\lib\\site-packages (from -r requirements.txt (line 28)) (0.26.0)\n",
      "Requirement already satisfied: idna==3.6 in c:\\users\\erics\\projects\\masterarbeit\\pytorch\\prototype\\.venv\\lib\\site-packages (from -r requirements.txt (line 29)) (3.6)\n",
      "Requirement already satisfied: ipykernel==6.29.2 in c:\\users\\erics\\projects\\masterarbeit\\pytorch\\prototype\\.venv\\lib\\site-packages (from -r requirements.txt (line 30)) (6.29.2)\n",
      "Requirement already satisfied: ipython==8.21.0 in c:\\users\\erics\\projects\\masterarbeit\\pytorch\\prototype\\.venv\\lib\\site-packages (from -r requirements.txt (line 31)) (8.21.0)\n",
      "Requirement already satisfied: isoduration==20.11.0 in c:\\users\\erics\\projects\\masterarbeit\\pytorch\\prototype\\.venv\\lib\\site-packages (from -r requirements.txt (line 32)) (20.11.0)\n",
      "Requirement already satisfied: jedi==0.19.1 in c:\\users\\erics\\projects\\masterarbeit\\pytorch\\prototype\\.venv\\lib\\site-packages (from -r requirements.txt (line 33)) (0.19.1)\n",
      "Requirement already satisfied: Jinja2==3.1.2 in c:\\users\\erics\\projects\\masterarbeit\\pytorch\\prototype\\.venv\\lib\\site-packages (from -r requirements.txt (line 34)) (3.1.2)\n",
      "Requirement already satisfied: joblib==1.3.2 in c:\\users\\erics\\projects\\masterarbeit\\pytorch\\prototype\\.venv\\lib\\site-packages (from -r requirements.txt (line 35)) (1.3.2)\n",
      "Requirement already satisfied: json5==0.9.14 in c:\\users\\erics\\projects\\masterarbeit\\pytorch\\prototype\\.venv\\lib\\site-packages (from -r requirements.txt (line 36)) (0.9.14)\n",
      "Requirement already satisfied: jsonpointer==2.4 in c:\\users\\erics\\projects\\masterarbeit\\pytorch\\prototype\\.venv\\lib\\site-packages (from -r requirements.txt (line 37)) (2.4)\n",
      "Requirement already satisfied: jsonschema==4.21.1 in c:\\users\\erics\\projects\\masterarbeit\\pytorch\\prototype\\.venv\\lib\\site-packages (from -r requirements.txt (line 38)) (4.21.1)\n",
      "Requirement already satisfied: jsonschema-specifications==2023.12.1 in c:\\users\\erics\\projects\\masterarbeit\\pytorch\\prototype\\.venv\\lib\\site-packages (from -r requirements.txt (line 39)) (2023.12.1)\n",
      "Requirement already satisfied: jupyter-events==0.9.0 in c:\\users\\erics\\projects\\masterarbeit\\pytorch\\prototype\\.venv\\lib\\site-packages (from -r requirements.txt (line 40)) (0.9.0)\n",
      "Requirement already satisfied: jupyter-lsp==2.2.2 in c:\\users\\erics\\projects\\masterarbeit\\pytorch\\prototype\\.venv\\lib\\site-packages (from -r requirements.txt (line 41)) (2.2.2)\n",
      "Requirement already satisfied: jupyter_client==8.6.0 in c:\\users\\erics\\projects\\masterarbeit\\pytorch\\prototype\\.venv\\lib\\site-packages (from -r requirements.txt (line 42)) (8.6.0)\n",
      "Requirement already satisfied: jupyter_core==5.7.1 in c:\\users\\erics\\projects\\masterarbeit\\pytorch\\prototype\\.venv\\lib\\site-packages (from -r requirements.txt (line 43)) (5.7.1)\n",
      "Requirement already satisfied: jupyter_server==2.12.5 in c:\\users\\erics\\projects\\masterarbeit\\pytorch\\prototype\\.venv\\lib\\site-packages (from -r requirements.txt (line 44)) (2.12.5)\n",
      "Requirement already satisfied: jupyter_server_terminals==0.5.2 in c:\\users\\erics\\projects\\masterarbeit\\pytorch\\prototype\\.venv\\lib\\site-packages (from -r requirements.txt (line 45)) (0.5.2)\n",
      "Requirement already satisfied: jupyterlab==4.1.1 in c:\\users\\erics\\projects\\masterarbeit\\pytorch\\prototype\\.venv\\lib\\site-packages (from -r requirements.txt (line 46)) (4.1.1)\n",
      "Requirement already satisfied: jupyterlab_pygments==0.3.0 in c:\\users\\erics\\projects\\masterarbeit\\pytorch\\prototype\\.venv\\lib\\site-packages (from -r requirements.txt (line 47)) (0.3.0)\n",
      "Requirement already satisfied: jupyterlab_server==2.25.3 in c:\\users\\erics\\projects\\masterarbeit\\pytorch\\prototype\\.venv\\lib\\site-packages (from -r requirements.txt (line 48)) (2.25.3)\n",
      "Requirement already satisfied: Markdown==3.5.2 in c:\\users\\erics\\projects\\masterarbeit\\pytorch\\prototype\\.venv\\lib\\site-packages (from -r requirements.txt (line 49)) (3.5.2)\n",
      "Requirement already satisfied: MarkupSafe==2.1.3 in c:\\users\\erics\\projects\\masterarbeit\\pytorch\\prototype\\.venv\\lib\\site-packages (from -r requirements.txt (line 50)) (2.1.3)\n",
      "Requirement already satisfied: matplotlib-inline==0.1.6 in c:\\users\\erics\\projects\\masterarbeit\\pytorch\\prototype\\.venv\\lib\\site-packages (from -r requirements.txt (line 51)) (0.1.6)\n",
      "Requirement already satisfied: mistune==3.0.2 in c:\\users\\erics\\projects\\masterarbeit\\pytorch\\prototype\\.venv\\lib\\site-packages (from -r requirements.txt (line 52)) (3.0.2)\n",
      "Requirement already satisfied: mpmath==1.3.0 in c:\\users\\erics\\projects\\masterarbeit\\pytorch\\prototype\\.venv\\lib\\site-packages (from -r requirements.txt (line 53)) (1.3.0)\n",
      "Requirement already satisfied: nbclient==0.9.0 in c:\\users\\erics\\projects\\masterarbeit\\pytorch\\prototype\\.venv\\lib\\site-packages (from -r requirements.txt (line 54)) (0.9.0)\n",
      "Requirement already satisfied: nbconvert==7.16.0 in c:\\users\\erics\\projects\\masterarbeit\\pytorch\\prototype\\.venv\\lib\\site-packages (from -r requirements.txt (line 55)) (7.16.0)\n",
      "Requirement already satisfied: nbformat==5.9.2 in c:\\users\\erics\\projects\\masterarbeit\\pytorch\\prototype\\.venv\\lib\\site-packages (from -r requirements.txt (line 56)) (5.9.2)\n",
      "Requirement already satisfied: nest-asyncio==1.6.0 in c:\\users\\erics\\projects\\masterarbeit\\pytorch\\prototype\\.venv\\lib\\site-packages (from -r requirements.txt (line 57)) (1.6.0)\n",
      "Requirement already satisfied: networkx==3.2.1 in c:\\users\\erics\\projects\\masterarbeit\\pytorch\\prototype\\.venv\\lib\\site-packages (from -r requirements.txt (line 58)) (3.2.1)\n",
      "Requirement already satisfied: notebook==7.1.0 in c:\\users\\erics\\projects\\masterarbeit\\pytorch\\prototype\\.venv\\lib\\site-packages (from -r requirements.txt (line 59)) (7.1.0)\n",
      "Requirement already satisfied: notebook_shim==0.2.4 in c:\\users\\erics\\projects\\masterarbeit\\pytorch\\prototype\\.venv\\lib\\site-packages (from -r requirements.txt (line 60)) (0.2.4)\n",
      "Requirement already satisfied: numpy==1.26.4 in c:\\users\\erics\\projects\\masterarbeit\\pytorch\\prototype\\.venv\\lib\\site-packages (from -r requirements.txt (line 61)) (1.26.4)\n",
      "Requirement already satisfied: overrides==7.7.0 in c:\\users\\erics\\projects\\masterarbeit\\pytorch\\prototype\\.venv\\lib\\site-packages (from -r requirements.txt (line 62)) (7.7.0)\n",
      "Requirement already satisfied: packaging==23.2 in c:\\users\\erics\\projects\\masterarbeit\\pytorch\\prototype\\.venv\\lib\\site-packages (from -r requirements.txt (line 63)) (23.2)\n",
      "Requirement already satisfied: pandas==2.2.0 in c:\\users\\erics\\projects\\masterarbeit\\pytorch\\prototype\\.venv\\lib\\site-packages (from -r requirements.txt (line 64)) (2.2.0)\n",
      "Requirement already satisfied: pandocfilters==1.5.1 in c:\\users\\erics\\projects\\masterarbeit\\pytorch\\prototype\\.venv\\lib\\site-packages (from -r requirements.txt (line 65)) (1.5.1)\n",
      "Requirement already satisfied: parso==0.8.3 in c:\\users\\erics\\projects\\masterarbeit\\pytorch\\prototype\\.venv\\lib\\site-packages (from -r requirements.txt (line 66)) (0.8.3)\n",
      "Requirement already satisfied: platformdirs==4.2.0 in c:\\users\\erics\\projects\\masterarbeit\\pytorch\\prototype\\.venv\\lib\\site-packages (from -r requirements.txt (line 67)) (4.2.0)\n",
      "Requirement already satisfied: prometheus_client==0.20.0 in c:\\users\\erics\\projects\\masterarbeit\\pytorch\\prototype\\.venv\\lib\\site-packages (from -r requirements.txt (line 68)) (0.20.0)\n",
      "Requirement already satisfied: prompt-toolkit==3.0.43 in c:\\users\\erics\\projects\\masterarbeit\\pytorch\\prototype\\.venv\\lib\\site-packages (from -r requirements.txt (line 69)) (3.0.43)\n",
      "Requirement already satisfied: protobuf==4.25.3 in c:\\users\\erics\\projects\\masterarbeit\\pytorch\\prototype\\.venv\\lib\\site-packages (from -r requirements.txt (line 70)) (4.25.3)\n",
      "Requirement already satisfied: psutil==5.9.8 in c:\\users\\erics\\projects\\masterarbeit\\pytorch\\prototype\\.venv\\lib\\site-packages (from -r requirements.txt (line 71)) (5.9.8)\n",
      "Requirement already satisfied: pure-eval==0.2.2 in c:\\users\\erics\\projects\\masterarbeit\\pytorch\\prototype\\.venv\\lib\\site-packages (from -r requirements.txt (line 72)) (0.2.2)\n",
      "Requirement already satisfied: pyarrow==15.0.0 in c:\\users\\erics\\projects\\masterarbeit\\pytorch\\prototype\\.venv\\lib\\site-packages (from -r requirements.txt (line 73)) (15.0.0)\n",
      "Requirement already satisfied: pycparser==2.21 in c:\\users\\erics\\projects\\masterarbeit\\pytorch\\prototype\\.venv\\lib\\site-packages (from -r requirements.txt (line 74)) (2.21)\n",
      "Requirement already satisfied: Pygments==2.17.2 in c:\\users\\erics\\projects\\masterarbeit\\pytorch\\prototype\\.venv\\lib\\site-packages (from -r requirements.txt (line 75)) (2.17.2)\n",
      "Requirement already satisfied: python-dateutil==2.8.2 in c:\\users\\erics\\projects\\masterarbeit\\pytorch\\prototype\\.venv\\lib\\site-packages (from -r requirements.txt (line 76)) (2.8.2)\n",
      "Requirement already satisfied: python-json-logger==2.0.7 in c:\\users\\erics\\projects\\masterarbeit\\pytorch\\prototype\\.venv\\lib\\site-packages (from -r requirements.txt (line 77)) (2.0.7)\n",
      "Requirement already satisfied: pytz==2024.1 in c:\\users\\erics\\projects\\masterarbeit\\pytorch\\prototype\\.venv\\lib\\site-packages (from -r requirements.txt (line 78)) (2024.1)\n",
      "Requirement already satisfied: pywin32==306 in c:\\users\\erics\\projects\\masterarbeit\\pytorch\\prototype\\.venv\\lib\\site-packages (from -r requirements.txt (line 79)) (306)\n",
      "Requirement already satisfied: pywinpty==2.0.12 in c:\\users\\erics\\projects\\masterarbeit\\pytorch\\prototype\\.venv\\lib\\site-packages (from -r requirements.txt (line 80)) (2.0.12)\n",
      "Requirement already satisfied: PyYAML==6.0.1 in c:\\users\\erics\\projects\\masterarbeit\\pytorch\\prototype\\.venv\\lib\\site-packages (from -r requirements.txt (line 81)) (6.0.1)\n",
      "Requirement already satisfied: pyzmq==25.1.2 in c:\\users\\erics\\projects\\masterarbeit\\pytorch\\prototype\\.venv\\lib\\site-packages (from -r requirements.txt (line 82)) (25.1.2)\n",
      "Requirement already satisfied: referencing==0.33.0 in c:\\users\\erics\\projects\\masterarbeit\\pytorch\\prototype\\.venv\\lib\\site-packages (from -r requirements.txt (line 83)) (0.33.0)\n",
      "Requirement already satisfied: requests==2.31.0 in c:\\users\\erics\\projects\\masterarbeit\\pytorch\\prototype\\.venv\\lib\\site-packages (from -r requirements.txt (line 84)) (2.31.0)\n",
      "Requirement already satisfied: rfc3339-validator==0.1.4 in c:\\users\\erics\\projects\\masterarbeit\\pytorch\\prototype\\.venv\\lib\\site-packages (from -r requirements.txt (line 85)) (0.1.4)\n",
      "Requirement already satisfied: rfc3986-validator==0.1.1 in c:\\users\\erics\\projects\\masterarbeit\\pytorch\\prototype\\.venv\\lib\\site-packages (from -r requirements.txt (line 86)) (0.1.1)\n",
      "Requirement already satisfied: rpds-py==0.18.0 in c:\\users\\erics\\projects\\masterarbeit\\pytorch\\prototype\\.venv\\lib\\site-packages (from -r requirements.txt (line 87)) (0.18.0)\n",
      "Requirement already satisfied: scikit-learn==1.4.1.post1 in c:\\users\\erics\\projects\\masterarbeit\\pytorch\\prototype\\.venv\\lib\\site-packages (from -r requirements.txt (line 88)) (1.4.1.post1)\n",
      "Requirement already satisfied: scipy==1.12.0 in c:\\users\\erics\\projects\\masterarbeit\\pytorch\\prototype\\.venv\\lib\\site-packages (from -r requirements.txt (line 89)) (1.12.0)\n",
      "Requirement already satisfied: Send2Trash==1.8.2 in c:\\users\\erics\\projects\\masterarbeit\\pytorch\\prototype\\.venv\\lib\\site-packages (from -r requirements.txt (line 90)) (1.8.2)\n",
      "Requirement already satisfied: setuptools==69.1.1 in c:\\users\\erics\\projects\\masterarbeit\\pytorch\\prototype\\.venv\\lib\\site-packages (from -r requirements.txt (line 91)) (69.1.1)\n",
      "Requirement already satisfied: six==1.16.0 in c:\\users\\erics\\projects\\masterarbeit\\pytorch\\prototype\\.venv\\lib\\site-packages (from -r requirements.txt (line 92)) (1.16.0)\n",
      "Requirement already satisfied: sniffio==1.3.0 in c:\\users\\erics\\projects\\masterarbeit\\pytorch\\prototype\\.venv\\lib\\site-packages (from -r requirements.txt (line 93)) (1.3.0)\n",
      "Requirement already satisfied: soupsieve==2.5 in c:\\users\\erics\\projects\\masterarbeit\\pytorch\\prototype\\.venv\\lib\\site-packages (from -r requirements.txt (line 94)) (2.5)\n",
      "Requirement already satisfied: stack-data==0.6.3 in c:\\users\\erics\\projects\\masterarbeit\\pytorch\\prototype\\.venv\\lib\\site-packages (from -r requirements.txt (line 95)) (0.6.3)\n",
      "Requirement already satisfied: sympy==1.12 in c:\\users\\erics\\projects\\masterarbeit\\pytorch\\prototype\\.venv\\lib\\site-packages (from -r requirements.txt (line 96)) (1.12)\n",
      "Requirement already satisfied: tensorboard==2.16.2 in c:\\users\\erics\\projects\\masterarbeit\\pytorch\\prototype\\.venv\\lib\\site-packages (from -r requirements.txt (line 97)) (2.16.2)\n",
      "Requirement already satisfied: tensorboard-data-server==0.7.2 in c:\\users\\erics\\projects\\masterarbeit\\pytorch\\prototype\\.venv\\lib\\site-packages (from -r requirements.txt (line 98)) (0.7.2)\n",
      "Requirement already satisfied: terminado==0.18.0 in c:\\users\\erics\\projects\\masterarbeit\\pytorch\\prototype\\.venv\\lib\\site-packages (from -r requirements.txt (line 99)) (0.18.0)\n",
      "Requirement already satisfied: threadpoolctl==3.3.0 in c:\\users\\erics\\projects\\masterarbeit\\pytorch\\prototype\\.venv\\lib\\site-packages (from -r requirements.txt (line 100)) (3.3.0)\n",
      "Requirement already satisfied: tinycss2==1.2.1 in c:\\users\\erics\\projects\\masterarbeit\\pytorch\\prototype\\.venv\\lib\\site-packages (from -r requirements.txt (line 101)) (1.2.1)\n",
      "Requirement already satisfied: torch==2.2.0+cu121 in c:\\users\\erics\\projects\\masterarbeit\\pytorch\\prototype\\.venv\\lib\\site-packages (from -r requirements.txt (line 102)) (2.2.0+cu121)\n",
      "Requirement already satisfied: torchaudio==2.2.0+cu121 in c:\\users\\erics\\projects\\masterarbeit\\pytorch\\prototype\\.venv\\lib\\site-packages (from -r requirements.txt (line 103)) (2.2.0+cu121)\n",
      "Requirement already satisfied: torchvision==0.1.6 in c:\\users\\erics\\projects\\masterarbeit\\pytorch\\prototype\\.venv\\lib\\site-packages (from -r requirements.txt (line 104)) (0.1.6)\n",
      "Requirement already satisfied: tornado==6.4 in c:\\users\\erics\\projects\\masterarbeit\\pytorch\\prototype\\.venv\\lib\\site-packages (from -r requirements.txt (line 105)) (6.4)\n",
      "Requirement already satisfied: traitlets==5.14.1 in c:\\users\\erics\\projects\\masterarbeit\\pytorch\\prototype\\.venv\\lib\\site-packages (from -r requirements.txt (line 106)) (5.14.1)\n",
      "Requirement already satisfied: types-python-dateutil==2.8.19.20240106 in c:\\users\\erics\\projects\\masterarbeit\\pytorch\\prototype\\.venv\\lib\\site-packages (from -r requirements.txt (line 107)) (2.8.19.20240106)\n",
      "Requirement already satisfied: typing_extensions==4.8.0 in c:\\users\\erics\\projects\\masterarbeit\\pytorch\\prototype\\.venv\\lib\\site-packages (from -r requirements.txt (line 108)) (4.8.0)\n",
      "Requirement already satisfied: tzdata==2024.1 in c:\\users\\erics\\projects\\masterarbeit\\pytorch\\prototype\\.venv\\lib\\site-packages (from -r requirements.txt (line 109)) (2024.1)\n",
      "Requirement already satisfied: uri-template==1.3.0 in c:\\users\\erics\\projects\\masterarbeit\\pytorch\\prototype\\.venv\\lib\\site-packages (from -r requirements.txt (line 110)) (1.3.0)\n",
      "Requirement already satisfied: urllib3==2.2.0 in c:\\users\\erics\\projects\\masterarbeit\\pytorch\\prototype\\.venv\\lib\\site-packages (from -r requirements.txt (line 111)) (2.2.0)\n",
      "Requirement already satisfied: wcwidth==0.2.13 in c:\\users\\erics\\projects\\masterarbeit\\pytorch\\prototype\\.venv\\lib\\site-packages (from -r requirements.txt (line 112)) (0.2.13)\n",
      "Requirement already satisfied: webcolors==1.13 in c:\\users\\erics\\projects\\masterarbeit\\pytorch\\prototype\\.venv\\lib\\site-packages (from -r requirements.txt (line 113)) (1.13)\n",
      "Requirement already satisfied: webencodings==0.5.1 in c:\\users\\erics\\projects\\masterarbeit\\pytorch\\prototype\\.venv\\lib\\site-packages (from -r requirements.txt (line 114)) (0.5.1)\n",
      "Requirement already satisfied: websocket-client==1.7.0 in c:\\users\\erics\\projects\\masterarbeit\\pytorch\\prototype\\.venv\\lib\\site-packages (from -r requirements.txt (line 115)) (1.7.0)\n",
      "Requirement already satisfied: Werkzeug==3.0.1 in c:\\users\\erics\\projects\\masterarbeit\\pytorch\\prototype\\.venv\\lib\\site-packages (from -r requirements.txt (line 116)) (3.0.1)\n"
     ]
    }
   ],
   "source": [
    "import sys\n",
    "!{sys.executable} -m pip install -r requirements.txt"
   ]
  },
  {
   "cell_type": "code",
   "execution_count": 2,
   "id": "b50ce0f4-f4c7-4958-a082-2b4ba38ac0b1",
   "metadata": {},
   "outputs": [],
   "source": [
    "import torch\n",
    "from torch import nn, optim\n",
    "from torch.distributions import Categorical\n",
    "from random import Random\n",
    "from datetime import datetime\n",
    "from torch.utils.data import Dataset, DataLoader\n",
    "from itertools import chain\n",
    "import torch.nn.functional as F\n",
    "import string"
   ]
  },
  {
   "cell_type": "markdown",
   "id": "319c72da-1e5c-4aae-9b29-878d22f52292",
   "metadata": {},
   "source": [
    "We going to try to learn a simple DGA called bajori\n",
    "\n",
    "First we are generating a dataset of of domains"
   ]
  },
  {
   "cell_type": "code",
   "execution_count": 33,
   "id": "e74501ed-5298-472a-901d-6b2d12356917",
   "metadata": {},
   "outputs": [
    {
     "name": "stdout",
     "output_type": "stream",
     "text": [
      "['a784519960750340678.xyz', 'a27060655651600088236.xyz', 'a625166792296.com', 'a065191730802016.net', 'a397244294624.xyz']\n"
     ]
    }
   ],
   "source": [
    "from dga import banjori, generate_dataset, simple_dga\n",
    "\n",
    "domains: list[str] = generate_dataset(simple_dga, 'earnestnessbiophysicalohax.com', 2**16)\n",
    "print(domains[:5])"
   ]
  },
  {
   "cell_type": "markdown",
   "id": "c85db21f-1b27-4d53-8752-1941b5b959b1",
   "metadata": {},
   "source": [
    "We are going to generate a pytorch [Dataset](https://pytorch.org/tutorials/beginner/basics/data_tutorial.html) to help us doing the batching and data shuffling "
   ]
  },
  {
   "cell_type": "code",
   "execution_count": 34,
   "id": "68d5d303-b6ae-4d88-af79-8d741a614633",
   "metadata": {},
   "outputs": [],
   "source": [
    "class Domains(Dataset):\n",
    "\n",
    "    def __init__(self, data: list[str]):\n",
    "        self.data = list(map(lambda d: '_'+d, data))\n",
    "        self.chars = sorted(list(set(chain(*self.data))))\n",
    "        self.vocabSize = len(self.chars) + 1\n",
    "        self.max_size = len(max(self.data, key=lambda d: len(d)))\n",
    "        self.char2ind = {ch: i for i, ch in enumerate(self.chars, start=1)}\n",
    "        self.ind2char = {i: ch for i, ch in enumerate(self.chars, start=1)}\n",
    "\n",
    "    def __len__(self):\n",
    "        return len(self.data)\n",
    "\n",
    "    def isEndChar(self, ind):\n",
    "        return ind == 0\n",
    "\n",
    "    def charTensor(self, _input):\n",
    "        return torch.tensor([[self.char2ind[c] for c in _input]]).permute(1,0)\n",
    "\n",
    "    def __getitem__(self, idx: int):\n",
    "        item = torch.tensor([self.char2ind[c] for c in self.data[idx]])\n",
    "        # we need tensors of same size, so if any domain has a different size we then pad it with 0 which will be our \"end char\"\n",
    "        item = F.pad(item, (0,self.max_size - len(item)), \"constant\", 0)\n",
    "        return (item, F.pad(item[1:], (0,1), \"constant\", 0))\n"
   ]
  },
  {
   "cell_type": "code",
   "execution_count": 35,
   "id": "68cfb856-b22e-4cdd-8229-d71e6b96677f",
   "metadata": {
    "scrolled": true
   },
   "outputs": [
    {
     "name": "stdout",
     "output_type": "stream",
     "text": [
      "x:\n",
      "\t torch.Size([64, 26])\n",
      "y:\n",
      "\t torch.Size([64, 26])\n",
      "_a784519960750340678.xyz\n"
     ]
    }
   ],
   "source": [
    "dataset = Domains(domains)\n",
    "x,y = next(iter(DataLoader(dataset, batch_size=64, shuffle=True)))\n",
    "print(\"x:\\n\\t\", x.shape)\n",
    "print(\"y:\\n\\t\", y.shape)\n",
    "print(dataset.data[0])"
   ]
  },
  {
   "cell_type": "markdown",
   "id": "7d06d6be-48bc-4c27-8720-c297cc49c397",
   "metadata": {},
   "source": [
    "Following the dataset we define a Model for learning the structure of our DGA"
   ]
  },
  {
   "cell_type": "code",
   "execution_count": 36,
   "id": "87a4b16d-4f65-44db-bf50-0264eac98858",
   "metadata": {},
   "outputs": [],
   "source": [
    "from torch import nn\n",
    "class Model(nn.Module):\n",
    "    def __init__(self, vocabSize, emb, size, nlayers):\n",
    "        super(Model, self).__init__()\n",
    "        self.embedding = nn.Embedding(num_embeddings=vocabSize,\n",
    "                                      embedding_dim=emb)\n",
    "        self.rnn = nn.GRU(input_size=emb, hidden_size=size,\n",
    "                          num_layers=nlayers)\n",
    "        self.decoder = nn.Linear(size, vocabSize)\n",
    "\n",
    "    def forward(self, input_seq, hidden_state):\n",
    "        embedding = self.embedding(input_seq)\n",
    "        output, hidden_state = self.rnn(embedding, hidden_state)\n",
    "        output = self.decoder(output)\n",
    "        return output, hidden_state.detach()"
   ]
  },
  {
   "cell_type": "code",
   "execution_count": 37,
   "id": "07a90136-b101-4c83-bde4-7afaf2ae14b6",
   "metadata": {},
   "outputs": [
    {
     "name": "stdout",
     "output_type": "stream",
     "text": [
      "tensor([[12, 12, 12,  ..., 12, 12, 12],\n",
      "        [13, 13, 13,  ..., 13, 13, 13],\n",
      "        [11,  4,  4,  ...,  9,  6, 10],\n",
      "        ...,\n",
      "        [ 0,  0, 15,  ...,  0,  0,  0],\n",
      "        [ 0,  0, 19,  ...,  0,  0,  0],\n",
      "        [ 0,  0,  0,  ...,  0,  0,  0]])\n"
     ]
    },
    {
     "data": {
      "text/plain": [
       "torch.Size([26, 64, 64])"
      ]
     },
     "execution_count": 37,
     "metadata": {},
     "output_type": "execute_result"
    }
   ],
   "source": [
    "# Trying to understand how the embedding put out the permuted input\n",
    "dataset = Domains(domains)\n",
    "dataloader = DataLoader(dataset, batch_size=64, shuffle=True)\n",
    "(x,y) = next(iter(dataloader))\n",
    "print(x.permute(1,0))\n",
    "embedding = nn.Embedding(num_embeddings=dataset.vocabSize, embedding_dim=64)\n",
    "emb = embedding(x.permute(1,0))\n",
    "emb.shape"
   ]
  },
  {
   "cell_type": "code",
   "execution_count": 40,
   "id": "ca57a82a-27f2-42ae-be1d-38d25b0dea4e",
   "metadata": {},
   "outputs": [],
   "source": [
    "from typing import List, Tuple, NamedTuple\n",
    "class TokenProbs(NamedTuple):\n",
    "    char: str\n",
    "    prob: float\n",
    "    \n",
    "class Trainer:\n",
    "    def __init__(self, dataset: Domains, **kwargs):\n",
    "        self.dataset = dataset\n",
    "        self.hidden_size = kwargs.get('hidden_size', 128)\n",
    "        self.num_layers = kwargs.get('num_layers', 1)\n",
    "        self.embed_dim = kwargs.get('embed_dim', 64)\n",
    "        self.device = kwargs.get('device', 'cuda:0')\n",
    "        self.model = Model(dataset.vocabSize, self.embed_dim, self.hidden_size, self.num_layers)\n",
    "\n",
    "    def predict_next_token(self, starter: str):\n",
    "        chart = self.dataset.charTensor(starter)\n",
    "        output, state = self.model(chart.to(self.device), None)\n",
    "        output = F.softmax(torch.squeeze(output[-1, :]), dim=0)\n",
    "        dist = Categorical(output)\n",
    "        index = dist.sample()\n",
    "        return index.item()\n",
    "\n",
    "    def predict(self, starter: str):\n",
    "        for _ in range(100):\n",
    "            ind = self.predict_next_token(starter)\n",
    "            if dataset.isEndChar(ind):\n",
    "                starter += \"<END>\"\n",
    "                break\n",
    "            starter += self.dataset.ind2char[ind]\n",
    "        return starter\n",
    "\n",
    "    def token_probs(self, starter: str) -> List[TokenProbs]:\n",
    "        self.model.eval()\n",
    "        chart = self.dataset.charTensor(starter)\n",
    "        output, state = self.model(chart.to(device), None)\n",
    "        output = F.softmax(torch.squeeze(output[-1, :]), dim=0)\n",
    "        return [TokenProbs(self.dataset.ind2char.get(idx, \"<END>\"), prob) for idx, prob in enumerate(output, 0)]\n",
    "\n",
    "    def train(self):\n",
    "        criterion = nn.CrossEntropyLoss(reduction=\"mean\")\n",
    "        dataset = self.dataset\n",
    "        device = self.device\n",
    "        dataloader = DataLoader(dataset, batch_size=16, shuffle=True)\n",
    "        model = self.model\n",
    "        model.to(device)\n",
    "        model.train()\n",
    "        optimizer = optim.Adam(model.parameters(), lr=0.001)\n",
    "        h0 = None\n",
    "        for epoch in range(10):\n",
    "            for batch, (x,y) in enumerate(dataloader):\n",
    "                optimizer.zero_grad()\n",
    "                if h0 is not None:\n",
    "                    h0 = h0.to(device)\n",
    "                output, h0 = model(x.permute(1,0).to(device), h0)\n",
    "                loss = criterion(output.permute(1,2,0), y.to(device))\n",
    "                loss.backward()\n",
    "                optimizer.step()\n",
    "            print()\n",
    "            print(\"----------------------------------------------\")\n",
    "            print({'epoch': epoch, 'batch': batch, 'loss': loss.item()})\n",
    "            print(self.predict(f\"_a\"))\n",
    "            print(\"----------------------------------------------\")\n",
    "            model.train()"
   ]
  },
  {
   "cell_type": "code",
   "execution_count": 41,
   "id": "52ad5de1-ccd6-49ed-9400-6ea2f6e96715",
   "metadata": {
    "scrolled": true
   },
   "outputs": [
    {
     "name": "stdout",
     "output_type": "stream",
     "text": [
      "\n",
      "----------------------------------------------\n",
      "{'epoch': 0, 'batch': 4095, 'loss': 1.5214979648590088}\n",
      "_a64087610799638.xyz<END>\n",
      "----------------------------------------------\n",
      "\n",
      "----------------------------------------------\n",
      "{'epoch': 1, 'batch': 4095, 'loss': 1.4794518947601318}\n",
      "_a0822524442.com<END>\n",
      "----------------------------------------------\n",
      "\n",
      "----------------------------------------------\n",
      "{'epoch': 2, 'batch': 4095, 'loss': 1.416318655014038}\n",
      "_a36325227.com<END>\n",
      "----------------------------------------------\n",
      "\n",
      "----------------------------------------------\n",
      "{'epoch': 3, 'batch': 4095, 'loss': 1.4886215925216675}\n",
      "_a2735413756351.xyz<END>\n",
      "----------------------------------------------\n",
      "\n",
      "----------------------------------------------\n",
      "{'epoch': 4, 'batch': 4095, 'loss': 1.4668843746185303}\n",
      "_a8021191958231.xyz<END>\n",
      "----------------------------------------------\n",
      "\n",
      "----------------------------------------------\n",
      "{'epoch': 5, 'batch': 4095, 'loss': 1.497428297996521}\n",
      "_a6078899396655965.com<END>\n",
      "----------------------------------------------\n",
      "\n",
      "----------------------------------------------\n",
      "{'epoch': 6, 'batch': 4095, 'loss': 1.4960728883743286}\n",
      "_a94952568518623.xyz<END>\n",
      "----------------------------------------------\n",
      "\n",
      "----------------------------------------------\n",
      "{'epoch': 7, 'batch': 4095, 'loss': 1.510026216506958}\n",
      "_a187841231.com<END>\n",
      "----------------------------------------------\n",
      "\n",
      "----------------------------------------------\n",
      "{'epoch': 8, 'batch': 4095, 'loss': 1.4005115032196045}\n",
      "_a205741807405.com<END>\n",
      "----------------------------------------------\n",
      "\n",
      "----------------------------------------------\n",
      "{'epoch': 9, 'batch': 4095, 'loss': 1.547884225845337}\n",
      "_a85832028665458.com<END>\n",
      "----------------------------------------------\n"
     ]
    }
   ],
   "source": [
    "HIDDEN_SIZE = 128\n",
    "NLAYERS = 1\n",
    "EMBEDDING_DIM = 64\n",
    "trainer = Trainer(dataset, hidden_size=HIDDEN_SIZE, num_layers=NLAYERS, embed_dim=EMBEDDING_DIM)\n",
    "trainer.train()"
   ]
  },
  {
   "cell_type": "code",
   "execution_count": 48,
   "id": "bd6b1630-63fd-4c41-be31-78852381d3ae",
   "metadata": {},
   "outputs": [
    {
     "name": "stdout",
     "output_type": "stream",
     "text": [
      "showing probabilities for start string:  _a\n",
      "<END>: 0.00%\n",
      ".: 0.00%\n",
      "0: 7.77%\n",
      "1: 12.19%\n",
      "2: 10.85%\n",
      "3: 8.53%\n",
      "4: 11.05%\n",
      "5: 9.95%\n",
      "6: 8.98%\n",
      "7: 11.59%\n",
      "8: 9.06%\n",
      "9: 10.02%\n",
      "_: 0.00%\n",
      "a: 0.00%\n",
      "c: 0.00%\n",
      "e: 0.00%\n",
      "m: 0.00%\n",
      "n: 0.00%\n",
      "o: 0.00%\n",
      "t: 0.00%\n",
      "x: 0.00%\n",
      "y: 0.00%\n",
      "z: 0.00%\n",
      "Sampled next letter:  3\n"
     ]
    }
   ],
   "source": [
    "state = None\n",
    "device = \"cuda:0\"\n",
    "start = '_a'\n",
    "chart = trainer.dataset.charTensor(start)\n",
    "output, state = trainer.model(chart.to(device), state)\n",
    "output = F.softmax(torch.squeeze(output[-1, :]), dim=0)\n",
    "print(\"showing probabilities for start string: \", start)\n",
    "for idx, prob in enumerate(output, 0):\n",
    "    print(f\"{trainer.dataset.ind2char.get(idx, '<END>')}: {prob:.2%}\")\n",
    "dist = Categorical(output)\n",
    "index = dist.sample()\n",
    "ind = index.item()\n",
    "print(\"Sampled next letter: \", trainer.dataset.ind2char.get(ind, '<END>'))"
   ]
  },
  {
   "cell_type": "code",
   "execution_count": null,
   "id": "8a5d93dd-a5ff-45c0-8cbf-3b95902e6dd7",
   "metadata": {},
   "outputs": [],
   "source": []
  },
  {
   "cell_type": "code",
   "execution_count": 42,
   "id": "f94ae376-88e9-4224-b755-ca325e3f66b3",
   "metadata": {},
   "outputs": [],
   "source": [
    "from functools import singledispatchmethod\n",
    "from typing import Set, Sequence, Self\n",
    "from collections import deque, defaultdict\n",
    "from itertools import product\n",
    "from string import ascii_letters\n",
    "class RegexAtom:\n",
    "    def __init__(self, chars: Sequence[str], match_all=False):\n",
    "        self._end = \"<END>\" in chars\n",
    "        self._characters: Set[str] = set(filter(lambda c: \"<END>\" != c, chars))\n",
    "        self.match_all = match_all\n",
    "\n",
    "    @classmethod\n",
    "    def all_match(cls, vocab: Sequence[str]):\n",
    "        return cls(vocab ,True)\n",
    "\n",
    "    @property\n",
    "    def chars(self):\n",
    "        return list(self._characters)\n",
    "\n",
    "    def has_end(self):\n",
    "        return self._end\n",
    "\n",
    "    def __add__(self, other: object):\n",
    "        if isinstance(other, RegexAtom):\n",
    "            self._characters.add(object._characters)\n",
    "        elif isinstance(other, str):\n",
    "            self._characters.add(other)\n",
    "        else:\n",
    "            raise NotImplementedError(\"you can only add other Regex-Atoms or strings.\")\n",
    "\n",
    "    def __str__(self):\n",
    "        if self.match_all:\n",
    "            return '.'\n",
    "        return f\"[{''.join(self._characters)}]{'$' if self._end else ''}\"\n",
    "    def __repr__(self):\n",
    "            return f\"<RegexAtom: match_all={self.match_all}, token={str(self)}>\"\n",
    "\n",
    "class RegexBuilder:\n",
    "    def __init__(self, trainer: Trainer, start=\"_\", threshold=0.4):\n",
    "        self.start = start\n",
    "        self.trainer = trainer\n",
    "        self.threshold = threshold\n",
    "        self.atoms: list[RegexAtom] = []\n",
    "        self.current_position = 0\n",
    "\n",
    "    def build_next_position(self, starter):\n",
    "        probs = self.trainer.token_probs(starter)\n",
    "        good_tokens = list(map(lambda t: t[0] ,filter(lambda token: token.prob > self.threshold, probs)))\n",
    "        if good_tokens:\n",
    "            self.atoms.append(RegexAtom(good_tokens))\n",
    "        else:\n",
    "            self.atoms.append(RegexAtom.all_match(self.trainer.dataset.chars))\n",
    "\n",
    "    def build(self):\n",
    "        starter = self.start\n",
    "        next_token = -1\n",
    "        while next_token != 0:\n",
    "            self.build_next_position(starter)\n",
    "            next_token = self.trainer.predict_next_token(starter) \n",
    "            starter += trainer.dataset.ind2char.get(next_token, '<END>')\n",
    "        return ''.join(str(a) for a in self.atoms)\n"
   ]
  },
  {
   "cell_type": "code",
   "execution_count": 46,
   "id": "7fb3e83f-50a3-45ab-b9f5-3ece88e45fdb",
   "metadata": {},
   "outputs": [
    {
     "data": {
      "text/plain": [
       "'[a]................[e][t][]$'"
      ]
     },
     "execution_count": 46,
     "metadata": {},
     "output_type": "execute_result"
    }
   ],
   "source": [
    "builder = RegexBuilder(trainer)\n",
    "atoms = builder.build()\n",
    "atoms"
   ]
  },
  {
   "cell_type": "code",
   "execution_count": null,
   "id": "3cbc5ef2-4c1d-4339-83d5-c89c1553884e",
   "metadata": {},
   "outputs": [],
   "source": []
  }
 ],
 "metadata": {
  "kernelspec": {
   "display_name": "Python 3 (ipykernel)",
   "language": "python",
   "name": "python3"
  },
  "language_info": {
   "codemirror_mode": {
    "name": "ipython",
    "version": 3
   },
   "file_extension": ".py",
   "mimetype": "text/x-python",
   "name": "python",
   "nbconvert_exporter": "python",
   "pygments_lexer": "ipython3",
   "version": "3.12.0rc3"
  }
 },
 "nbformat": 4,
 "nbformat_minor": 5
}
