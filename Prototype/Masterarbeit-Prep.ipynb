{
 "cells": [
  {
   "cell_type": "markdown",
   "id": "a86b2fc4-9e4a-4be4-9b51-697acddfae07",
   "metadata": {},
   "source": [
    "# Prototyping model2regex"
   ]
  },
  {
   "cell_type": "code",
   "execution_count": 1,
   "id": "0800e2ed-6243-41be-8b18-9f520470570e",
   "metadata": {},
   "outputs": [
    {
     "name": "stdout",
     "output_type": "stream",
     "text": [
      "Requirement already satisfied: anyio==4.2.0 in c:\\users\\erics\\projects\\masterarbeit\\pytorch\\prototype\\.venv\\lib\\site-packages (from -r requirements.txt (line 1)) (4.2.0)\n",
      "Requirement already satisfied: argon2-cffi==23.1.0 in c:\\users\\erics\\projects\\masterarbeit\\pytorch\\prototype\\.venv\\lib\\site-packages (from -r requirements.txt (line 2)) (23.1.0)\n",
      "Requirement already satisfied: argon2-cffi-bindings==21.2.0 in c:\\users\\erics\\projects\\masterarbeit\\pytorch\\prototype\\.venv\\lib\\site-packages (from -r requirements.txt (line 3)) (21.2.0)\n",
      "Requirement already satisfied: arrow==1.3.0 in c:\\users\\erics\\projects\\masterarbeit\\pytorch\\prototype\\.venv\\lib\\site-packages (from -r requirements.txt (line 4)) (1.3.0)\n",
      "Requirement already satisfied: asttokens==2.4.1 in c:\\users\\erics\\projects\\masterarbeit\\pytorch\\prototype\\.venv\\lib\\site-packages (from -r requirements.txt (line 5)) (2.4.1)\n",
      "Requirement already satisfied: async-lru==2.0.4 in c:\\users\\erics\\projects\\masterarbeit\\pytorch\\prototype\\.venv\\lib\\site-packages (from -r requirements.txt (line 6)) (2.0.4)\n",
      "Requirement already satisfied: attrs==23.2.0 in c:\\users\\erics\\projects\\masterarbeit\\pytorch\\prototype\\.venv\\lib\\site-packages (from -r requirements.txt (line 7)) (23.2.0)\n",
      "Requirement already satisfied: Babel==2.14.0 in c:\\users\\erics\\projects\\masterarbeit\\pytorch\\prototype\\.venv\\lib\\site-packages (from -r requirements.txt (line 8)) (2.14.0)\n",
      "Requirement already satisfied: beautifulsoup4==4.12.3 in c:\\users\\erics\\projects\\masterarbeit\\pytorch\\prototype\\.venv\\lib\\site-packages (from -r requirements.txt (line 9)) (4.12.3)\n",
      "Requirement already satisfied: bleach==6.1.0 in c:\\users\\erics\\projects\\masterarbeit\\pytorch\\prototype\\.venv\\lib\\site-packages (from -r requirements.txt (line 10)) (6.1.0)\n",
      "Requirement already satisfied: certifi==2024.2.2 in c:\\users\\erics\\projects\\masterarbeit\\pytorch\\prototype\\.venv\\lib\\site-packages (from -r requirements.txt (line 11)) (2024.2.2)\n",
      "Requirement already satisfied: cffi==1.16.0 in c:\\users\\erics\\projects\\masterarbeit\\pytorch\\prototype\\.venv\\lib\\site-packages (from -r requirements.txt (line 12)) (1.16.0)\n",
      "Requirement already satisfied: charset-normalizer==3.3.2 in c:\\users\\erics\\projects\\masterarbeit\\pytorch\\prototype\\.venv\\lib\\site-packages (from -r requirements.txt (line 13)) (3.3.2)\n",
      "Requirement already satisfied: colorama==0.4.6 in c:\\users\\erics\\projects\\masterarbeit\\pytorch\\prototype\\.venv\\lib\\site-packages (from -r requirements.txt (line 14)) (0.4.6)\n",
      "Requirement already satisfied: comm==0.2.1 in c:\\users\\erics\\projects\\masterarbeit\\pytorch\\prototype\\.venv\\lib\\site-packages (from -r requirements.txt (line 15)) (0.2.1)\n",
      "Requirement already satisfied: debugpy==1.8.1 in c:\\users\\erics\\projects\\masterarbeit\\pytorch\\prototype\\.venv\\lib\\site-packages (from -r requirements.txt (line 16)) (1.8.1)\n",
      "Requirement already satisfied: decorator==5.1.1 in c:\\users\\erics\\projects\\masterarbeit\\pytorch\\prototype\\.venv\\lib\\site-packages (from -r requirements.txt (line 17)) (5.1.1)\n",
      "Requirement already satisfied: defusedxml==0.7.1 in c:\\users\\erics\\projects\\masterarbeit\\pytorch\\prototype\\.venv\\lib\\site-packages (from -r requirements.txt (line 18)) (0.7.1)\n",
      "Requirement already satisfied: executing==2.0.1 in c:\\users\\erics\\projects\\masterarbeit\\pytorch\\prototype\\.venv\\lib\\site-packages (from -r requirements.txt (line 19)) (2.0.1)\n",
      "Requirement already satisfied: fastjsonschema==2.19.1 in c:\\users\\erics\\projects\\masterarbeit\\pytorch\\prototype\\.venv\\lib\\site-packages (from -r requirements.txt (line 20)) (2.19.1)\n",
      "Requirement already satisfied: filelock==3.9.0 in c:\\users\\erics\\projects\\masterarbeit\\pytorch\\prototype\\.venv\\lib\\site-packages (from -r requirements.txt (line 21)) (3.9.0)\n",
      "Requirement already satisfied: fqdn==1.5.1 in c:\\users\\erics\\projects\\masterarbeit\\pytorch\\prototype\\.venv\\lib\\site-packages (from -r requirements.txt (line 22)) (1.5.1)\n",
      "Requirement already satisfied: fsspec==2023.4.0 in c:\\users\\erics\\projects\\masterarbeit\\pytorch\\prototype\\.venv\\lib\\site-packages (from -r requirements.txt (line 23)) (2023.4.0)\n",
      "Requirement already satisfied: h11==0.14.0 in c:\\users\\erics\\projects\\masterarbeit\\pytorch\\prototype\\.venv\\lib\\site-packages (from -r requirements.txt (line 24)) (0.14.0)\n",
      "Requirement already satisfied: httpcore==1.0.3 in c:\\users\\erics\\projects\\masterarbeit\\pytorch\\prototype\\.venv\\lib\\site-packages (from -r requirements.txt (line 25)) (1.0.3)\n",
      "Requirement already satisfied: httpx==0.26.0 in c:\\users\\erics\\projects\\masterarbeit\\pytorch\\prototype\\.venv\\lib\\site-packages (from -r requirements.txt (line 26)) (0.26.0)\n",
      "Requirement already satisfied: idna==3.6 in c:\\users\\erics\\projects\\masterarbeit\\pytorch\\prototype\\.venv\\lib\\site-packages (from -r requirements.txt (line 27)) (3.6)\n",
      "Requirement already satisfied: ipykernel==6.29.2 in c:\\users\\erics\\projects\\masterarbeit\\pytorch\\prototype\\.venv\\lib\\site-packages (from -r requirements.txt (line 28)) (6.29.2)\n",
      "Requirement already satisfied: ipython==8.21.0 in c:\\users\\erics\\projects\\masterarbeit\\pytorch\\prototype\\.venv\\lib\\site-packages (from -r requirements.txt (line 29)) (8.21.0)\n",
      "Requirement already satisfied: isoduration==20.11.0 in c:\\users\\erics\\projects\\masterarbeit\\pytorch\\prototype\\.venv\\lib\\site-packages (from -r requirements.txt (line 30)) (20.11.0)\n",
      "Requirement already satisfied: jedi==0.19.1 in c:\\users\\erics\\projects\\masterarbeit\\pytorch\\prototype\\.venv\\lib\\site-packages (from -r requirements.txt (line 31)) (0.19.1)\n",
      "Requirement already satisfied: Jinja2==3.1.2 in c:\\users\\erics\\projects\\masterarbeit\\pytorch\\prototype\\.venv\\lib\\site-packages (from -r requirements.txt (line 32)) (3.1.2)\n",
      "Requirement already satisfied: json5==0.9.14 in c:\\users\\erics\\projects\\masterarbeit\\pytorch\\prototype\\.venv\\lib\\site-packages (from -r requirements.txt (line 33)) (0.9.14)\n",
      "Requirement already satisfied: jsonpointer==2.4 in c:\\users\\erics\\projects\\masterarbeit\\pytorch\\prototype\\.venv\\lib\\site-packages (from -r requirements.txt (line 34)) (2.4)\n",
      "Requirement already satisfied: jsonschema==4.21.1 in c:\\users\\erics\\projects\\masterarbeit\\pytorch\\prototype\\.venv\\lib\\site-packages (from -r requirements.txt (line 35)) (4.21.1)\n",
      "Requirement already satisfied: jsonschema-specifications==2023.12.1 in c:\\users\\erics\\projects\\masterarbeit\\pytorch\\prototype\\.venv\\lib\\site-packages (from -r requirements.txt (line 36)) (2023.12.1)\n",
      "Requirement already satisfied: jupyter-events==0.9.0 in c:\\users\\erics\\projects\\masterarbeit\\pytorch\\prototype\\.venv\\lib\\site-packages (from -r requirements.txt (line 37)) (0.9.0)\n",
      "Requirement already satisfied: jupyter-lsp==2.2.2 in c:\\users\\erics\\projects\\masterarbeit\\pytorch\\prototype\\.venv\\lib\\site-packages (from -r requirements.txt (line 38)) (2.2.2)\n",
      "Requirement already satisfied: jupyter_client==8.6.0 in c:\\users\\erics\\projects\\masterarbeit\\pytorch\\prototype\\.venv\\lib\\site-packages (from -r requirements.txt (line 39)) (8.6.0)\n",
      "Requirement already satisfied: jupyter_core==5.7.1 in c:\\users\\erics\\projects\\masterarbeit\\pytorch\\prototype\\.venv\\lib\\site-packages (from -r requirements.txt (line 40)) (5.7.1)\n",
      "Requirement already satisfied: jupyter_server==2.12.5 in c:\\users\\erics\\projects\\masterarbeit\\pytorch\\prototype\\.venv\\lib\\site-packages (from -r requirements.txt (line 41)) (2.12.5)\n",
      "Requirement already satisfied: jupyter_server_terminals==0.5.2 in c:\\users\\erics\\projects\\masterarbeit\\pytorch\\prototype\\.venv\\lib\\site-packages (from -r requirements.txt (line 42)) (0.5.2)\n",
      "Requirement already satisfied: jupyterlab==4.1.1 in c:\\users\\erics\\projects\\masterarbeit\\pytorch\\prototype\\.venv\\lib\\site-packages (from -r requirements.txt (line 43)) (4.1.1)\n",
      "Requirement already satisfied: jupyterlab_pygments==0.3.0 in c:\\users\\erics\\projects\\masterarbeit\\pytorch\\prototype\\.venv\\lib\\site-packages (from -r requirements.txt (line 44)) (0.3.0)\n",
      "Requirement already satisfied: jupyterlab_server==2.25.3 in c:\\users\\erics\\projects\\masterarbeit\\pytorch\\prototype\\.venv\\lib\\site-packages (from -r requirements.txt (line 45)) (2.25.3)\n",
      "Requirement already satisfied: MarkupSafe==2.1.3 in c:\\users\\erics\\projects\\masterarbeit\\pytorch\\prototype\\.venv\\lib\\site-packages (from -r requirements.txt (line 46)) (2.1.3)\n",
      "Requirement already satisfied: matplotlib-inline==0.1.6 in c:\\users\\erics\\projects\\masterarbeit\\pytorch\\prototype\\.venv\\lib\\site-packages (from -r requirements.txt (line 47)) (0.1.6)\n",
      "Requirement already satisfied: mistune==3.0.2 in c:\\users\\erics\\projects\\masterarbeit\\pytorch\\prototype\\.venv\\lib\\site-packages (from -r requirements.txt (line 48)) (3.0.2)\n",
      "Requirement already satisfied: mpmath==1.3.0 in c:\\users\\erics\\projects\\masterarbeit\\pytorch\\prototype\\.venv\\lib\\site-packages (from -r requirements.txt (line 49)) (1.3.0)\n",
      "Requirement already satisfied: nbclient==0.9.0 in c:\\users\\erics\\projects\\masterarbeit\\pytorch\\prototype\\.venv\\lib\\site-packages (from -r requirements.txt (line 50)) (0.9.0)\n",
      "Requirement already satisfied: nbconvert==7.16.0 in c:\\users\\erics\\projects\\masterarbeit\\pytorch\\prototype\\.venv\\lib\\site-packages (from -r requirements.txt (line 51)) (7.16.0)\n",
      "Requirement already satisfied: nbformat==5.9.2 in c:\\users\\erics\\projects\\masterarbeit\\pytorch\\prototype\\.venv\\lib\\site-packages (from -r requirements.txt (line 52)) (5.9.2)\n",
      "Requirement already satisfied: nest-asyncio==1.6.0 in c:\\users\\erics\\projects\\masterarbeit\\pytorch\\prototype\\.venv\\lib\\site-packages (from -r requirements.txt (line 53)) (1.6.0)\n",
      "Requirement already satisfied: networkx==3.2.1 in c:\\users\\erics\\projects\\masterarbeit\\pytorch\\prototype\\.venv\\lib\\site-packages (from -r requirements.txt (line 54)) (3.2.1)\n",
      "Requirement already satisfied: notebook==7.1.0 in c:\\users\\erics\\projects\\masterarbeit\\pytorch\\prototype\\.venv\\lib\\site-packages (from -r requirements.txt (line 55)) (7.1.0)\n",
      "Requirement already satisfied: notebook_shim==0.2.4 in c:\\users\\erics\\projects\\masterarbeit\\pytorch\\prototype\\.venv\\lib\\site-packages (from -r requirements.txt (line 56)) (0.2.4)\n",
      "Requirement already satisfied: numpy==1.26.4 in c:\\users\\erics\\projects\\masterarbeit\\pytorch\\prototype\\.venv\\lib\\site-packages (from -r requirements.txt (line 57)) (1.26.4)\n",
      "Requirement already satisfied: overrides==7.7.0 in c:\\users\\erics\\projects\\masterarbeit\\pytorch\\prototype\\.venv\\lib\\site-packages (from -r requirements.txt (line 58)) (7.7.0)\n",
      "Requirement already satisfied: packaging==23.2 in c:\\users\\erics\\projects\\masterarbeit\\pytorch\\prototype\\.venv\\lib\\site-packages (from -r requirements.txt (line 59)) (23.2)\n",
      "Requirement already satisfied: pandas==2.2.0 in c:\\users\\erics\\projects\\masterarbeit\\pytorch\\prototype\\.venv\\lib\\site-packages (from -r requirements.txt (line 60)) (2.2.0)\n",
      "Requirement already satisfied: pandocfilters==1.5.1 in c:\\users\\erics\\projects\\masterarbeit\\pytorch\\prototype\\.venv\\lib\\site-packages (from -r requirements.txt (line 61)) (1.5.1)\n",
      "Requirement already satisfied: parso==0.8.3 in c:\\users\\erics\\projects\\masterarbeit\\pytorch\\prototype\\.venv\\lib\\site-packages (from -r requirements.txt (line 62)) (0.8.3)\n",
      "Requirement already satisfied: platformdirs==4.2.0 in c:\\users\\erics\\projects\\masterarbeit\\pytorch\\prototype\\.venv\\lib\\site-packages (from -r requirements.txt (line 63)) (4.2.0)\n",
      "Requirement already satisfied: prometheus_client==0.20.0 in c:\\users\\erics\\projects\\masterarbeit\\pytorch\\prototype\\.venv\\lib\\site-packages (from -r requirements.txt (line 64)) (0.20.0)\n",
      "Requirement already satisfied: prompt-toolkit==3.0.43 in c:\\users\\erics\\projects\\masterarbeit\\pytorch\\prototype\\.venv\\lib\\site-packages (from -r requirements.txt (line 65)) (3.0.43)\n",
      "Requirement already satisfied: psutil==5.9.8 in c:\\users\\erics\\projects\\masterarbeit\\pytorch\\prototype\\.venv\\lib\\site-packages (from -r requirements.txt (line 66)) (5.9.8)\n",
      "Requirement already satisfied: pure-eval==0.2.2 in c:\\users\\erics\\projects\\masterarbeit\\pytorch\\prototype\\.venv\\lib\\site-packages (from -r requirements.txt (line 67)) (0.2.2)\n",
      "Requirement already satisfied: pycparser==2.21 in c:\\users\\erics\\projects\\masterarbeit\\pytorch\\prototype\\.venv\\lib\\site-packages (from -r requirements.txt (line 68)) (2.21)\n",
      "Requirement already satisfied: Pygments==2.17.2 in c:\\users\\erics\\projects\\masterarbeit\\pytorch\\prototype\\.venv\\lib\\site-packages (from -r requirements.txt (line 69)) (2.17.2)\n",
      "Requirement already satisfied: python-dateutil==2.8.2 in c:\\users\\erics\\projects\\masterarbeit\\pytorch\\prototype\\.venv\\lib\\site-packages (from -r requirements.txt (line 70)) (2.8.2)\n",
      "Requirement already satisfied: python-json-logger==2.0.7 in c:\\users\\erics\\projects\\masterarbeit\\pytorch\\prototype\\.venv\\lib\\site-packages (from -r requirements.txt (line 71)) (2.0.7)\n",
      "Requirement already satisfied: pytz==2024.1 in c:\\users\\erics\\projects\\masterarbeit\\pytorch\\prototype\\.venv\\lib\\site-packages (from -r requirements.txt (line 72)) (2024.1)\n",
      "Requirement already satisfied: pywin32==306 in c:\\users\\erics\\projects\\masterarbeit\\pytorch\\prototype\\.venv\\lib\\site-packages (from -r requirements.txt (line 73)) (306)\n",
      "Requirement already satisfied: pywinpty==2.0.12 in c:\\users\\erics\\projects\\masterarbeit\\pytorch\\prototype\\.venv\\lib\\site-packages (from -r requirements.txt (line 74)) (2.0.12)\n",
      "Requirement already satisfied: PyYAML==6.0.1 in c:\\users\\erics\\projects\\masterarbeit\\pytorch\\prototype\\.venv\\lib\\site-packages (from -r requirements.txt (line 75)) (6.0.1)\n",
      "Requirement already satisfied: pyzmq==25.1.2 in c:\\users\\erics\\projects\\masterarbeit\\pytorch\\prototype\\.venv\\lib\\site-packages (from -r requirements.txt (line 76)) (25.1.2)\n",
      "Requirement already satisfied: referencing==0.33.0 in c:\\users\\erics\\projects\\masterarbeit\\pytorch\\prototype\\.venv\\lib\\site-packages (from -r requirements.txt (line 77)) (0.33.0)\n",
      "Requirement already satisfied: requests==2.31.0 in c:\\users\\erics\\projects\\masterarbeit\\pytorch\\prototype\\.venv\\lib\\site-packages (from -r requirements.txt (line 78)) (2.31.0)\n",
      "Requirement already satisfied: rfc3339-validator==0.1.4 in c:\\users\\erics\\projects\\masterarbeit\\pytorch\\prototype\\.venv\\lib\\site-packages (from -r requirements.txt (line 79)) (0.1.4)\n",
      "Requirement already satisfied: rfc3986-validator==0.1.1 in c:\\users\\erics\\projects\\masterarbeit\\pytorch\\prototype\\.venv\\lib\\site-packages (from -r requirements.txt (line 80)) (0.1.1)\n",
      "Requirement already satisfied: rpds-py==0.18.0 in c:\\users\\erics\\projects\\masterarbeit\\pytorch\\prototype\\.venv\\lib\\site-packages (from -r requirements.txt (line 81)) (0.18.0)\n",
      "Requirement already satisfied: Send2Trash==1.8.2 in c:\\users\\erics\\projects\\masterarbeit\\pytorch\\prototype\\.venv\\lib\\site-packages (from -r requirements.txt (line 82)) (1.8.2)\n",
      "Requirement already satisfied: six==1.16.0 in c:\\users\\erics\\projects\\masterarbeit\\pytorch\\prototype\\.venv\\lib\\site-packages (from -r requirements.txt (line 83)) (1.16.0)\n",
      "Requirement already satisfied: sniffio==1.3.0 in c:\\users\\erics\\projects\\masterarbeit\\pytorch\\prototype\\.venv\\lib\\site-packages (from -r requirements.txt (line 84)) (1.3.0)\n",
      "Requirement already satisfied: soupsieve==2.5 in c:\\users\\erics\\projects\\masterarbeit\\pytorch\\prototype\\.venv\\lib\\site-packages (from -r requirements.txt (line 85)) (2.5)\n",
      "Requirement already satisfied: stack-data==0.6.3 in c:\\users\\erics\\projects\\masterarbeit\\pytorch\\prototype\\.venv\\lib\\site-packages (from -r requirements.txt (line 86)) (0.6.3)\n",
      "Requirement already satisfied: sympy==1.12 in c:\\users\\erics\\projects\\masterarbeit\\pytorch\\prototype\\.venv\\lib\\site-packages (from -r requirements.txt (line 87)) (1.12)\n",
      "Requirement already satisfied: terminado==0.18.0 in c:\\users\\erics\\projects\\masterarbeit\\pytorch\\prototype\\.venv\\lib\\site-packages (from -r requirements.txt (line 88)) (0.18.0)\n",
      "Requirement already satisfied: tinycss2==1.2.1 in c:\\users\\erics\\projects\\masterarbeit\\pytorch\\prototype\\.venv\\lib\\site-packages (from -r requirements.txt (line 89)) (1.2.1)\n",
      "Requirement already satisfied: torch==2.2.0+cu121 in c:\\users\\erics\\projects\\masterarbeit\\pytorch\\prototype\\.venv\\lib\\site-packages (from -r requirements.txt (line 90)) (2.2.0+cu121)\n",
      "Requirement already satisfied: torchaudio==2.2.0+cu121 in c:\\users\\erics\\projects\\masterarbeit\\pytorch\\prototype\\.venv\\lib\\site-packages (from -r requirements.txt (line 91)) (2.2.0+cu121)\n",
      "Requirement already satisfied: torchvision==0.1.6 in c:\\users\\erics\\projects\\masterarbeit\\pytorch\\prototype\\.venv\\lib\\site-packages (from -r requirements.txt (line 92)) (0.1.6)\n",
      "Requirement already satisfied: tornado==6.4 in c:\\users\\erics\\projects\\masterarbeit\\pytorch\\prototype\\.venv\\lib\\site-packages (from -r requirements.txt (line 93)) (6.4)\n",
      "Requirement already satisfied: traitlets==5.14.1 in c:\\users\\erics\\projects\\masterarbeit\\pytorch\\prototype\\.venv\\lib\\site-packages (from -r requirements.txt (line 94)) (5.14.1)\n",
      "Requirement already satisfied: types-python-dateutil==2.8.19.20240106 in c:\\users\\erics\\projects\\masterarbeit\\pytorch\\prototype\\.venv\\lib\\site-packages (from -r requirements.txt (line 95)) (2.8.19.20240106)\n",
      "Requirement already satisfied: typing_extensions==4.8.0 in c:\\users\\erics\\projects\\masterarbeit\\pytorch\\prototype\\.venv\\lib\\site-packages (from -r requirements.txt (line 96)) (4.8.0)\n",
      "Requirement already satisfied: tzdata==2024.1 in c:\\users\\erics\\projects\\masterarbeit\\pytorch\\prototype\\.venv\\lib\\site-packages (from -r requirements.txt (line 97)) (2024.1)\n",
      "Requirement already satisfied: uri-template==1.3.0 in c:\\users\\erics\\projects\\masterarbeit\\pytorch\\prototype\\.venv\\lib\\site-packages (from -r requirements.txt (line 98)) (1.3.0)\n",
      "Requirement already satisfied: urllib3==2.2.0 in c:\\users\\erics\\projects\\masterarbeit\\pytorch\\prototype\\.venv\\lib\\site-packages (from -r requirements.txt (line 99)) (2.2.0)\n",
      "Requirement already satisfied: wcwidth==0.2.13 in c:\\users\\erics\\projects\\masterarbeit\\pytorch\\prototype\\.venv\\lib\\site-packages (from -r requirements.txt (line 100)) (0.2.13)\n",
      "Requirement already satisfied: webcolors==1.13 in c:\\users\\erics\\projects\\masterarbeit\\pytorch\\prototype\\.venv\\lib\\site-packages (from -r requirements.txt (line 101)) (1.13)\n",
      "Requirement already satisfied: webencodings==0.5.1 in c:\\users\\erics\\projects\\masterarbeit\\pytorch\\prototype\\.venv\\lib\\site-packages (from -r requirements.txt (line 102)) (0.5.1)\n",
      "Requirement already satisfied: websocket-client==1.7.0 in c:\\users\\erics\\projects\\masterarbeit\\pytorch\\prototype\\.venv\\lib\\site-packages (from -r requirements.txt (line 103)) (1.7.0)\n"
     ]
    }
   ],
   "source": [
    "import sys\n",
    "!{sys.executable} -m pip install -r requirements.txt"
   ]
  },
  {
   "cell_type": "code",
   "execution_count": 2,
   "id": "b50ce0f4-f4c7-4958-a082-2b4ba38ac0b1",
   "metadata": {},
   "outputs": [],
   "source": [
    "import torch\n",
    "from torch import nn, optim\n",
    "from torch.distributions import Categorical\n",
    "from random import Random\n",
    "from datetime import datetime\n",
    "from torch.utils.data import Dataset, DataLoader\n",
    "from itertools import chain\n",
    "import torch.nn.functional as F\n",
    "import string"
   ]
  },
  {
   "cell_type": "markdown",
   "id": "319c72da-1e5c-4aae-9b29-878d22f52292",
   "metadata": {},
   "source": [
    "We going to try to learn a simple DGA called bajori\n",
    "\n",
    "First we are generating a dataset of of domains"
   ]
  },
  {
   "cell_type": "code",
   "execution_count": 3,
   "id": "e74501ed-5298-472a-901d-6b2d12356917",
   "metadata": {},
   "outputs": [],
   "source": [
    "from dga import banjori, generate_dataset\n",
    "domains: list[str] = generate_dataset(banjori,'earnestnessbiophysicalohax.com', 2**16)"
   ]
  },
  {
   "cell_type": "markdown",
   "id": "c85db21f-1b27-4d53-8752-1941b5b959b1",
   "metadata": {},
   "source": [
    "We are going to generate a pytorch [Dataset](https://pytorch.org/tutorials/beginner/basics/data_tutorial.html) to help us doing the batching and data shuffling "
   ]
  },
  {
   "cell_type": "code",
   "execution_count": 4,
   "id": "68d5d303-b6ae-4d88-af79-8d741a614633",
   "metadata": {},
   "outputs": [],
   "source": [
    "class Domains(Dataset):\n",
    "    def __init__(self, data: list[str]):\n",
    "        self.data = data\n",
    "        self.chars = sorted(list(set(chain(*self.data))))\n",
    "        self.vocabSize = len(self.chars) + 1\n",
    "        self.max_size = len(max(self.data, key=lambda d: len(d)))\n",
    "        self.char2ind = {ch : i for i,ch in enumerate(self.chars, start=1)}\n",
    "        self.ind2char = {i : ch for i,ch in enumerate(self.chars, start=1)}\n",
    "\n",
    "    def __len__(self):\n",
    "        return len(self.data)\n",
    "\n",
    "    def isEndChar(self, ind):\n",
    "        return ind == 0\n",
    "    def charTensor(self, _input):\n",
    "        return torch.tensor([[self.char2ind[c] for c in _input]]).permute(1,0)\n",
    "        \n",
    "    def __getitem__(self, idx: int):\n",
    "        item = torch.tensor([self.char2ind[c] for c in self.data[idx]])\n",
    "        # we need tensors of same size, so if any domain has a different size we then pad it with 0 which will be our \"end char\"\n",
    "        item = F.pad(item, (0,self.max_size - len(item)), \"constant\", 0)\n",
    "        return (item, F.pad(item[1:], (0,1), \"constant\", 0))\n",
    "        "
   ]
  },
  {
   "cell_type": "code",
   "execution_count": 5,
   "id": "68cfb856-b22e-4cdd-8229-d71e6b96677f",
   "metadata": {
    "scrolled": true
   },
   "outputs": [
    {
     "name": "stdout",
     "output_type": "stream",
     "text": [
      "x:\n",
      "\t torch.Size([64, 30])\n",
      "y:\n",
      "\t torch.Size([64, 30])\n",
      "kwtoestnessbiophysicalohax.com\n"
     ]
    }
   ],
   "source": [
    "dataset = Domains(domains)\n",
    "x,y = next(iter(DataLoader(dataset, batch_size=64, shuffle=True)))\n",
    "print(\"x:\\n\\t\", x.shape)\n",
    "print(\"y:\\n\\t\", y.shape)\n",
    "print(dataset.data[0])"
   ]
  },
  {
   "cell_type": "markdown",
   "id": "7d06d6be-48bc-4c27-8720-c297cc49c397",
   "metadata": {},
   "source": [
    "Following the dataset we define a Model for learning the structure of our DGA"
   ]
  },
  {
   "cell_type": "code",
   "execution_count": 6,
   "id": "87a4b16d-4f65-44db-bf50-0264eac98858",
   "metadata": {},
   "outputs": [],
   "source": [
    "from torch import nn\n",
    "class Model(nn.Module):\n",
    "    def __init__(self, vocabSize, emb, size, nlayers):\n",
    "        super(Model, self).__init__()\n",
    "        self.embedding = nn.Embedding(num_embeddings=vocabSize,\n",
    "                                      embedding_dim=emb)\n",
    "        self.rnn = nn.GRU(input_size=emb, hidden_size=size,\n",
    "                          num_layers=nlayers)\n",
    "        self.decoder = nn.Linear(size, vocabSize)\n",
    "        \n",
    "    def forward(self, input_seq, hidden_state):\n",
    "        embedding = self.embedding(input_seq)\n",
    "        output, hidden_state = self.rnn(embedding, hidden_state)\n",
    "        output = self.decoder(output)\n",
    "        return output, hidden_state.detach()"
   ]
  },
  {
   "cell_type": "code",
   "execution_count": 7,
   "id": "07a90136-b101-4c83-bde4-7afaf2ae14b6",
   "metadata": {},
   "outputs": [
    {
     "name": "stdout",
     "output_type": "stream",
     "text": [
      "tensor([[12,  8, 10,  ..., 27, 19, 23],\n",
      "        [ 6, 22, 20,  ..., 25,  7, 25],\n",
      "        [19,  5, 17,  ..., 23, 20,  6],\n",
      "        ...,\n",
      "        [ 4,  4,  4,  ...,  4,  4,  4],\n",
      "        [16, 16, 16,  ..., 16, 16, 16],\n",
      "        [14, 14, 14,  ..., 14, 14, 14]])\n"
     ]
    },
    {
     "data": {
      "text/plain": [
       "torch.Size([30, 64, 64])"
      ]
     },
     "execution_count": 7,
     "metadata": {},
     "output_type": "execute_result"
    }
   ],
   "source": [
    "# Trying to understand how the embedding put out the permuted input\n",
    "dataset = Domains(domains)\n",
    "dataloader = DataLoader(dataset, batch_size=64, shuffle=True)\n",
    "(x,y) = next(iter(dataloader))\n",
    "print(x.permute(1,0))\n",
    "embedding = nn.Embedding(num_embeddings=dataset.vocabSize, embedding_dim=64)\n",
    "emb = embedding(x.permute(1,0))\n",
    "emb.shape\n"
   ]
  },
  {
   "cell_type": "code",
   "execution_count": 8,
   "id": "ca57a82a-27f2-42ae-be1d-38d25b0dea4e",
   "metadata": {},
   "outputs": [],
   "source": [
    "class Trainer:\n",
    "    def __init__(self, dataset: Domains, **kwargs):\n",
    "        self.dataset = dataset\n",
    "        self.hidden_size = kwargs.get('hidden_size', 128)\n",
    "        self.num_layers = kwargs.get('num_layers', 1)\n",
    "        self.embed_dim = kwargs.get('embed_dim', 64)\n",
    "        self.device = kwargs.get('device', 'cuda:0')\n",
    "        self.model = Model(dataset.vocabSize, self.embed_dim, self.hidden_size, self.num_layers)\n",
    "        \n",
    "    def predict(self, starter: str):\n",
    "        chart = self.dataset.charTensor(starter)\n",
    "        state = None\n",
    "        device = self.device\n",
    "        for _ in range(100):\n",
    "            if state is not None:\n",
    "                state = state.to(device)\n",
    "            output, state = self.model(chart.to(device), state)\n",
    "            output = F.softmax(torch.squeeze(output[-1, :]), dim=0)\n",
    "            dist = Categorical(output)\n",
    "            index = dist.sample()\n",
    "            ind = index.item()\n",
    "            if dataset.isEndChar(ind):\n",
    "                break\n",
    "            starter += self.dataset.ind2char[ind]\n",
    "            chart = torch.tensor([[ind]])\n",
    "        return starter \n",
    "\n",
    "    def train(self):\n",
    "        criterion = nn.CrossEntropyLoss(reduction=\"mean\")\n",
    "        dataset = self.dataset\n",
    "        device = self.device\n",
    "        dataloader = DataLoader(dataset, batch_size=16, shuffle=True)\n",
    "        model = self.model\n",
    "        model.to(device)\n",
    "        model.train()\n",
    "        optimizer = optim.Adam(model.parameters(), lr=0.001)\n",
    "        h0 = None\n",
    "        for epoch in range(100):\n",
    "            for batch, (x,y) in enumerate(dataloader):\n",
    "                optimizer.zero_grad()\n",
    "                if h0 is not None:\n",
    "                    h0 = h0.to(device)\n",
    "                output, h0 = model(x.permute(1,0).to(device), h0)\n",
    "                loss = criterion(output.permute(1,2,0), y.to(device))\n",
    "                loss.backward()\n",
    "                optimizer.step()\n",
    "            print()\n",
    "            print(\"----------------------------------------------\")\n",
    "            print({'epoch': epoch, 'batch': batch, 'loss': loss.item()})\n",
    "            for char in string.ascii_lowercase:\n",
    "                print(self.predict(char))\n",
    "            print(\"----------------------------------------------\")\n",
    "            model.train()\n"
   ]
  },
  {
   "cell_type": "code",
   "execution_count": 9,
   "id": "52ad5de1-ccd6-49ed-9400-6ea2f6e96715",
   "metadata": {
    "scrolled": true
   },
   "outputs": [
    {
     "name": "stdout",
     "output_type": "stream",
     "text": [
      "\n",
      "----------------------------------------------\n",
      "{'epoch': 0, 'batch': 4095, 'loss': 0.3053528070449829}\n",
      "asiophysicalohax.com\n",
      "bicosscom\n",
      "calohax.com\n",
      "dz.com\n",
      "estnessbiophysicalohax.com\n",
      "fhnestnessbiophysicalohax.com\n",
      "gestnessbiophysicalohax.com\n",
      "hvx.com\n",
      "icalohax.com\n",
      "jtnestnessbiophysicalohax.com\n",
      "kom\n",
      "lm\n",
      "mndvestnessbiophysicalohax.com\n",
      "nbestnessbiophysicalohax.com\n",
      "ornestnessbiophysicalohax.com\n",
      "physicalohax.com\n",
      "qlohax.com\n",
      "rphysicalohax.com\n",
      "suoiestnessbiophysicalohax.com\n",
      "tnestnessbiophysicalohax.com\n",
      "usgestnessbiophysicalohax.com\n",
      "vphysicalohax.com\n",
      "w\n",
      "x.com\n",
      "ysicalohax.com\n",
      "z.com\n",
      "----------------------------------------------\n"
     ]
    },
    {
     "ename": "KeyboardInterrupt",
     "evalue": "",
     "output_type": "error",
     "traceback": [
      "\u001b[1;31m---------------------------------------------------------------------------\u001b[0m",
      "\u001b[1;31mKeyboardInterrupt\u001b[0m                         Traceback (most recent call last)",
      "Cell \u001b[1;32mIn[9], line 5\u001b[0m\n\u001b[0;32m      3\u001b[0m EMBEDDING_DIM \u001b[38;5;241m=\u001b[39m \u001b[38;5;241m64\u001b[39m\n\u001b[0;32m      4\u001b[0m trainer \u001b[38;5;241m=\u001b[39m Trainer(dataset, hidden_size\u001b[38;5;241m=\u001b[39mHIDDEN_SIZE, num_layers\u001b[38;5;241m=\u001b[39mNLAYERS, embed_dim\u001b[38;5;241m=\u001b[39mEMBEDDING_DIM)\n\u001b[1;32m----> 5\u001b[0m \u001b[43mtrainer\u001b[49m\u001b[38;5;241;43m.\u001b[39;49m\u001b[43mtrain\u001b[49m\u001b[43m(\u001b[49m\u001b[43m)\u001b[49m\n",
      "Cell \u001b[1;32mIn[8], line 43\u001b[0m, in \u001b[0;36mTrainer.train\u001b[1;34m(self)\u001b[0m\n\u001b[0;32m     41\u001b[0m \u001b[38;5;28;01mif\u001b[39;00m h0 \u001b[38;5;129;01mis\u001b[39;00m \u001b[38;5;129;01mnot\u001b[39;00m \u001b[38;5;28;01mNone\u001b[39;00m:\n\u001b[0;32m     42\u001b[0m     h0 \u001b[38;5;241m=\u001b[39m h0\u001b[38;5;241m.\u001b[39mto(device)\n\u001b[1;32m---> 43\u001b[0m output, h0 \u001b[38;5;241m=\u001b[39m \u001b[43mmodel\u001b[49m\u001b[43m(\u001b[49m\u001b[43mx\u001b[49m\u001b[38;5;241;43m.\u001b[39;49m\u001b[43mpermute\u001b[49m\u001b[43m(\u001b[49m\u001b[38;5;241;43m1\u001b[39;49m\u001b[43m,\u001b[49m\u001b[38;5;241;43m0\u001b[39;49m\u001b[43m)\u001b[49m\u001b[38;5;241;43m.\u001b[39;49m\u001b[43mto\u001b[49m\u001b[43m(\u001b[49m\u001b[43mdevice\u001b[49m\u001b[43m)\u001b[49m\u001b[43m,\u001b[49m\u001b[43m \u001b[49m\u001b[43mh0\u001b[49m\u001b[43m)\u001b[49m\n\u001b[0;32m     44\u001b[0m loss \u001b[38;5;241m=\u001b[39m criterion(output\u001b[38;5;241m.\u001b[39mpermute(\u001b[38;5;241m1\u001b[39m,\u001b[38;5;241m2\u001b[39m,\u001b[38;5;241m0\u001b[39m), y\u001b[38;5;241m.\u001b[39mto(device))\n\u001b[0;32m     45\u001b[0m loss\u001b[38;5;241m.\u001b[39mbackward()\n",
      "File \u001b[1;32m~\\Projects\\Masterarbeit\\pytorch\\Prototype\\.venv\\Lib\\site-packages\\torch\\nn\\modules\\module.py:1511\u001b[0m, in \u001b[0;36mModule._wrapped_call_impl\u001b[1;34m(self, *args, **kwargs)\u001b[0m\n\u001b[0;32m   1509\u001b[0m     \u001b[38;5;28;01mreturn\u001b[39;00m \u001b[38;5;28mself\u001b[39m\u001b[38;5;241m.\u001b[39m_compiled_call_impl(\u001b[38;5;241m*\u001b[39margs, \u001b[38;5;241m*\u001b[39m\u001b[38;5;241m*\u001b[39mkwargs)  \u001b[38;5;66;03m# type: ignore[misc]\u001b[39;00m\n\u001b[0;32m   1510\u001b[0m \u001b[38;5;28;01melse\u001b[39;00m:\n\u001b[1;32m-> 1511\u001b[0m     \u001b[38;5;28;01mreturn\u001b[39;00m \u001b[38;5;28;43mself\u001b[39;49m\u001b[38;5;241;43m.\u001b[39;49m\u001b[43m_call_impl\u001b[49m\u001b[43m(\u001b[49m\u001b[38;5;241;43m*\u001b[39;49m\u001b[43margs\u001b[49m\u001b[43m,\u001b[49m\u001b[43m \u001b[49m\u001b[38;5;241;43m*\u001b[39;49m\u001b[38;5;241;43m*\u001b[39;49m\u001b[43mkwargs\u001b[49m\u001b[43m)\u001b[49m\n",
      "File \u001b[1;32m~\\Projects\\Masterarbeit\\pytorch\\Prototype\\.venv\\Lib\\site-packages\\torch\\nn\\modules\\module.py:1520\u001b[0m, in \u001b[0;36mModule._call_impl\u001b[1;34m(self, *args, **kwargs)\u001b[0m\n\u001b[0;32m   1515\u001b[0m \u001b[38;5;66;03m# If we don't have any hooks, we want to skip the rest of the logic in\u001b[39;00m\n\u001b[0;32m   1516\u001b[0m \u001b[38;5;66;03m# this function, and just call forward.\u001b[39;00m\n\u001b[0;32m   1517\u001b[0m \u001b[38;5;28;01mif\u001b[39;00m \u001b[38;5;129;01mnot\u001b[39;00m (\u001b[38;5;28mself\u001b[39m\u001b[38;5;241m.\u001b[39m_backward_hooks \u001b[38;5;129;01mor\u001b[39;00m \u001b[38;5;28mself\u001b[39m\u001b[38;5;241m.\u001b[39m_backward_pre_hooks \u001b[38;5;129;01mor\u001b[39;00m \u001b[38;5;28mself\u001b[39m\u001b[38;5;241m.\u001b[39m_forward_hooks \u001b[38;5;129;01mor\u001b[39;00m \u001b[38;5;28mself\u001b[39m\u001b[38;5;241m.\u001b[39m_forward_pre_hooks\n\u001b[0;32m   1518\u001b[0m         \u001b[38;5;129;01mor\u001b[39;00m _global_backward_pre_hooks \u001b[38;5;129;01mor\u001b[39;00m _global_backward_hooks\n\u001b[0;32m   1519\u001b[0m         \u001b[38;5;129;01mor\u001b[39;00m _global_forward_hooks \u001b[38;5;129;01mor\u001b[39;00m _global_forward_pre_hooks):\n\u001b[1;32m-> 1520\u001b[0m     \u001b[38;5;28;01mreturn\u001b[39;00m \u001b[43mforward_call\u001b[49m\u001b[43m(\u001b[49m\u001b[38;5;241;43m*\u001b[39;49m\u001b[43margs\u001b[49m\u001b[43m,\u001b[49m\u001b[43m \u001b[49m\u001b[38;5;241;43m*\u001b[39;49m\u001b[38;5;241;43m*\u001b[39;49m\u001b[43mkwargs\u001b[49m\u001b[43m)\u001b[49m\n\u001b[0;32m   1522\u001b[0m \u001b[38;5;28;01mtry\u001b[39;00m:\n\u001b[0;32m   1523\u001b[0m     result \u001b[38;5;241m=\u001b[39m \u001b[38;5;28;01mNone\u001b[39;00m\n",
      "Cell \u001b[1;32mIn[6], line 14\u001b[0m, in \u001b[0;36mModel.forward\u001b[1;34m(self, input_seq, hidden_state)\u001b[0m\n\u001b[0;32m     12\u001b[0m embedding \u001b[38;5;241m=\u001b[39m \u001b[38;5;28mself\u001b[39m\u001b[38;5;241m.\u001b[39membedding(input_seq)\n\u001b[0;32m     13\u001b[0m output, hidden_state \u001b[38;5;241m=\u001b[39m \u001b[38;5;28mself\u001b[39m\u001b[38;5;241m.\u001b[39mrnn(embedding, hidden_state)\n\u001b[1;32m---> 14\u001b[0m output \u001b[38;5;241m=\u001b[39m \u001b[38;5;28;43mself\u001b[39;49m\u001b[38;5;241;43m.\u001b[39;49m\u001b[43mdecoder\u001b[49m\u001b[43m(\u001b[49m\u001b[43moutput\u001b[49m\u001b[43m)\u001b[49m\n\u001b[0;32m     15\u001b[0m \u001b[38;5;28;01mreturn\u001b[39;00m output, hidden_state\u001b[38;5;241m.\u001b[39mdetach()\n",
      "File \u001b[1;32m~\\Projects\\Masterarbeit\\pytorch\\Prototype\\.venv\\Lib\\site-packages\\torch\\nn\\modules\\module.py:1511\u001b[0m, in \u001b[0;36mModule._wrapped_call_impl\u001b[1;34m(self, *args, **kwargs)\u001b[0m\n\u001b[0;32m   1509\u001b[0m     \u001b[38;5;28;01mreturn\u001b[39;00m \u001b[38;5;28mself\u001b[39m\u001b[38;5;241m.\u001b[39m_compiled_call_impl(\u001b[38;5;241m*\u001b[39margs, \u001b[38;5;241m*\u001b[39m\u001b[38;5;241m*\u001b[39mkwargs)  \u001b[38;5;66;03m# type: ignore[misc]\u001b[39;00m\n\u001b[0;32m   1510\u001b[0m \u001b[38;5;28;01melse\u001b[39;00m:\n\u001b[1;32m-> 1511\u001b[0m     \u001b[38;5;28;01mreturn\u001b[39;00m \u001b[38;5;28;43mself\u001b[39;49m\u001b[38;5;241;43m.\u001b[39;49m\u001b[43m_call_impl\u001b[49m\u001b[43m(\u001b[49m\u001b[38;5;241;43m*\u001b[39;49m\u001b[43margs\u001b[49m\u001b[43m,\u001b[49m\u001b[43m \u001b[49m\u001b[38;5;241;43m*\u001b[39;49m\u001b[38;5;241;43m*\u001b[39;49m\u001b[43mkwargs\u001b[49m\u001b[43m)\u001b[49m\n",
      "File \u001b[1;32m~\\Projects\\Masterarbeit\\pytorch\\Prototype\\.venv\\Lib\\site-packages\\torch\\nn\\modules\\module.py:1520\u001b[0m, in \u001b[0;36mModule._call_impl\u001b[1;34m(self, *args, **kwargs)\u001b[0m\n\u001b[0;32m   1515\u001b[0m \u001b[38;5;66;03m# If we don't have any hooks, we want to skip the rest of the logic in\u001b[39;00m\n\u001b[0;32m   1516\u001b[0m \u001b[38;5;66;03m# this function, and just call forward.\u001b[39;00m\n\u001b[0;32m   1517\u001b[0m \u001b[38;5;28;01mif\u001b[39;00m \u001b[38;5;129;01mnot\u001b[39;00m (\u001b[38;5;28mself\u001b[39m\u001b[38;5;241m.\u001b[39m_backward_hooks \u001b[38;5;129;01mor\u001b[39;00m \u001b[38;5;28mself\u001b[39m\u001b[38;5;241m.\u001b[39m_backward_pre_hooks \u001b[38;5;129;01mor\u001b[39;00m \u001b[38;5;28mself\u001b[39m\u001b[38;5;241m.\u001b[39m_forward_hooks \u001b[38;5;129;01mor\u001b[39;00m \u001b[38;5;28mself\u001b[39m\u001b[38;5;241m.\u001b[39m_forward_pre_hooks\n\u001b[0;32m   1518\u001b[0m         \u001b[38;5;129;01mor\u001b[39;00m _global_backward_pre_hooks \u001b[38;5;129;01mor\u001b[39;00m _global_backward_hooks\n\u001b[0;32m   1519\u001b[0m         \u001b[38;5;129;01mor\u001b[39;00m _global_forward_hooks \u001b[38;5;129;01mor\u001b[39;00m _global_forward_pre_hooks):\n\u001b[1;32m-> 1520\u001b[0m     \u001b[38;5;28;01mreturn\u001b[39;00m \u001b[43mforward_call\u001b[49m\u001b[43m(\u001b[49m\u001b[38;5;241;43m*\u001b[39;49m\u001b[43margs\u001b[49m\u001b[43m,\u001b[49m\u001b[43m \u001b[49m\u001b[38;5;241;43m*\u001b[39;49m\u001b[38;5;241;43m*\u001b[39;49m\u001b[43mkwargs\u001b[49m\u001b[43m)\u001b[49m\n\u001b[0;32m   1522\u001b[0m \u001b[38;5;28;01mtry\u001b[39;00m:\n\u001b[0;32m   1523\u001b[0m     result \u001b[38;5;241m=\u001b[39m \u001b[38;5;28;01mNone\u001b[39;00m\n",
      "File \u001b[1;32m~\\Projects\\Masterarbeit\\pytorch\\Prototype\\.venv\\Lib\\site-packages\\torch\\nn\\modules\\linear.py:116\u001b[0m, in \u001b[0;36mLinear.forward\u001b[1;34m(self, input)\u001b[0m\n\u001b[0;32m    115\u001b[0m \u001b[38;5;28;01mdef\u001b[39;00m \u001b[38;5;21mforward\u001b[39m(\u001b[38;5;28mself\u001b[39m, \u001b[38;5;28minput\u001b[39m: Tensor) \u001b[38;5;241m-\u001b[39m\u001b[38;5;241m>\u001b[39m Tensor:\n\u001b[1;32m--> 116\u001b[0m     \u001b[38;5;28;01mreturn\u001b[39;00m \u001b[43mF\u001b[49m\u001b[38;5;241;43m.\u001b[39;49m\u001b[43mlinear\u001b[49m\u001b[43m(\u001b[49m\u001b[38;5;28;43minput\u001b[39;49m\u001b[43m,\u001b[49m\u001b[43m \u001b[49m\u001b[38;5;28;43mself\u001b[39;49m\u001b[38;5;241;43m.\u001b[39;49m\u001b[43mweight\u001b[49m\u001b[43m,\u001b[49m\u001b[43m \u001b[49m\u001b[38;5;28;43mself\u001b[39;49m\u001b[38;5;241;43m.\u001b[39;49m\u001b[43mbias\u001b[49m\u001b[43m)\u001b[49m\n",
      "\u001b[1;31mKeyboardInterrupt\u001b[0m: "
     ]
    }
   ],
   "source": [
    "HIDDEN_SIZE = 128\n",
    "NLAYERS = 1\n",
    "EMBEDDING_DIM = 64\n",
    "trainer = Trainer(dataset, hidden_size=HIDDEN_SIZE, num_layers=NLAYERS, embed_dim=EMBEDDING_DIM)\n",
    "trainer.train()"
   ]
  },
  {
   "cell_type": "code",
   "execution_count": null,
   "id": "c0426c01-e194-4e94-a5fb-33af6dd50cf3",
   "metadata": {},
   "outputs": [],
   "source": [
    "class DGAClassifier(nn.Module):\n",
    "    def __init__(self, vocabSize, emb, size, nlayers):\n",
    "        super(DGAClassifier, self).__init__()\n",
    "        self.embedding = nn.Embedding(num_embeddings=vocabSize,\n",
    "                                      embedding_dim=emb)\n",
    "        self.rnn = nn.GRU(input_size=emb, hidden_size=size,\n",
    "                          num_layers=nlayers)\n",
    "        self.linear = nn.Linear(in_features=size, out_features=1)\n",
    "        self.softmax = nn.Softmax(dim=1)\n",
    "        \n",
    "    def forward(self, input_seq, hidden_state):\n",
    "        embedding = self.embedding(input_seq)\n",
    "        output, hidden_state = self.rnn(embedding, hidden_state)\n",
    "        soft = self.linear(hidden_state[-1])\n",
    "        return soft, hidden_state.detach()\n",
    "\n",
    "model = DGAClassifier(dataset.vocabSize, EMBEDDING_DIM, HIDDEN_SIZE, NLAYERS)\n",
    "out = model(dataset.charTensor(domains[0]), None)\n"
   ]
  },
  {
   "cell_type": "code",
   "execution_count": null,
   "id": "dc9c641d-1f1c-4762-91b2-324a64111aa1",
   "metadata": {},
   "outputs": [],
   "source": [
    "import pandas as pd\n",
    "from pathlib import Path\n",
    "top1m = pd.read_csv(Path('data/top-1m.csv'))\n",
    "real_domains = top1m.values[:,1]"
   ]
  },
  {
   "cell_type": "code",
   "execution_count": null,
   "id": "2035da7b-92e8-477c-9ecd-71a486f816f9",
   "metadata": {},
   "outputs": [],
   "source": [
    "dga_dataset = list(zip(domains, [1 for _ in range(len(domains))]))\n",
    "dga_dataset.extend(list(zip(real_domains, [0 for _ in range(len(real_domains))])))\n",
    "import random\n",
    "random.choices(k=20, population=dga_dataset)"
   ]
  },
  {
   "cell_type": "code",
   "execution_count": null,
   "id": "073b0726-09a8-40b6-b98a-369c9e43ec6c",
   "metadata": {},
   "outputs": [],
   "source": [
    "class DomainsAndDGA(Dataset):\n",
    "    def __init__(self, dga_domains: list[str], real_domains_file='data/top-1m.csv'):\n",
    "        top1m = pd.read_csv(real_domains_file)\n",
    "        real_domains = top1m.values[:,1]\n",
    "        self.max_size = len(max(chain(real_domains, dga_domains), key=lambda d: len(d)))\n",
    "        self.data = list(zip(real_domains, [1 for _ in range(len(real_domains))]))\n",
    "        self.data.extend(list(zip(dga_domains, [0 for _ in range(len(dga_domains))])))\n",
    "        self.chars = sorted(list(set(chain(*[d[0] for d in self.data]))))\n",
    "        self.vocabSize = len(self.chars) + 1\n",
    "        self.char2ind = {ch : i for i,ch in enumerate(self.chars, start=1)}\n",
    "        self.ind2char = {i : ch for i,ch in enumerate(self.chars, start=1)}\n",
    "\n",
    "    def __len__(self):\n",
    "        return len(self.data)\n",
    "\n",
    "    def isEndChar(self, ind):\n",
    "        return ind == 0\n",
    "    def charTensor(self, _input):\n",
    "        return torch.tensor([[self.char2ind[c] for c in _input]]).permute(1,0)\n",
    "        \n",
    "    def __getitem__(self, idx: int):\n",
    "        item, label = self.data[idx]\n",
    "        item = torch.tensor([self.char2ind[c] for c in item])\n",
    "        # we need tensors of same size, so if any domain has a different size we then pad it with 0 which will be our \"end char\"\n",
    "        item = F.pad(item, (0,self.max_size - len(item)), \"constant\", 0)\n",
    "        return (item, label)"
   ]
  },
  {
   "cell_type": "code",
   "execution_count": null,
   "id": "3a0fd22c-e250-429a-a66e-ccfc589b4dce",
   "metadata": {},
   "outputs": [],
   "source": [
    "dataset = DomainsAndDGA(dga_domains=domains)"
   ]
  },
  {
   "cell_type": "code",
   "execution_count": null,
   "id": "6eda0952-17e1-4385-9a77-a2b45054a48e",
   "metadata": {},
   "outputs": [],
   "source": [
    "class Trainer:\n",
    "    def __init__(self, dataset: Domains, **kwargs):\n",
    "        self.dataset = dataset\n",
    "        self.hidden_size = kwargs.get('hidden_size', 128)\n",
    "        self.num_layers = kwargs.get('num_layers', 1)\n",
    "        self.embed_dim = kwargs.get('embed_dim', 64)\n",
    "        self.device = kwargs.get('device', 'cuda:0')\n",
    "        self.model = DGAClassifier(dataset.vocabSize, self.embed_dim, self.hidden_size, self.num_layers)\n",
    "        \n",
    "    def predict(self, starter: str):\n",
    "        chart = self.dataset.charTensor(starter)\n",
    "        state = None\n",
    "        device = self.device\n",
    "        for _ in range(100):\n",
    "            if state is not None:\n",
    "                state = state.to(device)\n",
    "            output, state = self.model(chart.to(device), state)\n",
    "            output = F.softmax(torch.squeeze(output[-1, :]), dim=0)\n",
    "            dist = Categorical(output)\n",
    "            index = dist.sample()\n",
    "            ind = index.item()\n",
    "            if dataset.isEndChar(ind):\n",
    "                break\n",
    "            starter += self.dataset.ind2char[ind]\n",
    "            chart = torch.tensor([[ind]])\n",
    "        return starter \n",
    "\n",
    "    def train(self):\n",
    "        criterion = nn.CrossEntropyLoss()\n",
    "        dataset = self.dataset\n",
    "        device = self.device\n",
    "        dataloader = DataLoader(dataset, batch_size=16, shuffle=True)\n",
    "        model = self.model\n",
    "        model.to(device)\n",
    "        model.train()\n",
    "        optimizer = optim.Adam(model.parameters(), lr=0.001)\n",
    "        h0 = None\n",
    "        for epoch in range(100):\n",
    "            for batch, (x,y) in enumerate(dataloader):\n",
    "                optimizer.zero_grad()\n",
    "                if h0 is not None:\n",
    "                    h0 = h0.to(device)\n",
    "                output, h0 = model(x.permute(1,0).to(device), h0)\n",
    "                loss = criterion(output, y.to(device))\n",
    "                loss.backward()\n",
    "                optimizer.step()\n",
    "            model.train()"
   ]
  },
  {
   "cell_type": "code",
   "execution_count": null,
   "id": "8fdc28de-ebd7-479f-a8fd-74ad17177d9f",
   "metadata": {},
   "outputs": [],
   "source": [
    "trainer = Trainer(dataset)\n",
    "trainer.train()"
   ]
  },
  {
   "cell_type": "code",
   "execution_count": null,
   "id": "48c8cea5-c68d-4727-a678-d461af38492f",
   "metadata": {},
   "outputs": [],
   "source": []
  }
 ],
 "metadata": {
  "kernelspec": {
   "display_name": "Python 3 (ipykernel)",
   "language": "python",
   "name": "python3"
  },
  "language_info": {
   "codemirror_mode": {
    "name": "ipython",
    "version": 3
   },
   "file_extension": ".py",
   "mimetype": "text/x-python",
   "name": "python",
   "nbconvert_exporter": "python",
   "pygments_lexer": "ipython3",
   "version": "3.12.0rc3"
  }
 },
 "nbformat": 4,
 "nbformat_minor": 5
}
